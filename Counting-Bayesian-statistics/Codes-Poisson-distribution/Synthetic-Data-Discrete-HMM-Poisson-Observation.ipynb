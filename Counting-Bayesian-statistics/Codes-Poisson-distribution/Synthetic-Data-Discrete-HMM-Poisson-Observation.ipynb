{
 "cells": [
  {
   "cell_type": "code",
   "execution_count": 1,
   "metadata": {},
   "outputs": [
    {
     "name": "stderr",
     "output_type": "stream",
     "text": [
      "/home/mkhoshle/miniconda3/envs/research/lib/python3.5/site-packages/seaborn/apionly.py:6: UserWarning: As seaborn no longer sets a default style on import, the seaborn.apionly module is deprecated. It will be removed in a future version.\n",
      "  warnings.warn(msg, UserWarning)\n"
     ]
    }
   ],
   "source": [
    "%matplotlib inline\n",
    "%load_ext autoreload\n",
    "%autoreload 2\n",
    "from __future__ import print_function, division\n",
    "import numpy as np\n",
    "import matplotlib\n",
    "import matplotlib.pyplot as plt\n",
    "from matplotlib.legend_handler import HandlerLine2D\n",
    "import pandas as pd\n",
    "import seaborn.apionly as sns\n",
    "import matplotlib.ticker as ticker\n",
    "import math\n",
    "from matplotlib.ticker import MultipleLocator, FormatStrFormatter\n",
    "import random as rand\n",
    "# from sys import maxint\n",
    "import scipy.stats as ss\n",
    "import itertools\n",
    "from itertools import islice, takewhile\n",
    "import operator\n",
    "from scipy.stats import t, cauchy, norm\n",
    "from functools import reduce\n",
    "import scipy\n",
    "import pandas as pd"
   ]
  },
  {
   "cell_type": "markdown",
   "metadata": {},
   "source": [
    "## States: 0:Inactive, 1:Active, 2:Dark, 3:Photo-Bleached"
   ]
  },
  {
   "cell_type": "code",
   "execution_count": 2,
   "metadata": {},
   "outputs": [],
   "source": [
    "def transition_matrix(p):\n",
    "    Q = np.array([[-0.5,0.5,0,0],[0,-11.0,10.0,1.0],[0,0.1,-0.1,0],[0,0,0,0]])     # Rate Matrix (Hz)\n",
    "    pi = scipy.linalg.expm(Q*np.float64(p))     \n",
    "    # Transition Matrix exp(Qdt)        \n",
    "    return pi # Unitless"
   ]
  },
  {
   "cell_type": "code",
   "execution_count": 3,
   "metadata": {},
   "outputs": [],
   "source": [
    "def get_signal(pi,partitions):\n",
    "    states = []\n",
    "    state = 0 \n",
    "    states.append(state)\n",
    "    for i in range(1,len(partitions)-1):\n",
    "        state = np.random.choice(4,p=pi[state])\n",
    "#       state = 0 if i==0 else 3 if i==len(partitions)-1 else np.random.choice(4,p=pi[state_old])   \n",
    "        states.append(state)   \n",
    "    \n",
    "    return states"
   ]
  },
  {
   "cell_type": "code",
   "execution_count": 4,
   "metadata": {},
   "outputs": [],
   "source": [
    "def Generate_syntethic_data(step,pi,partitions,B):                                               \n",
    "    n_microstates = 4                                     # Total number of microstates (I,A,D,B)\n",
    "    S = []                                                # State trajectory\n",
    "    for i in range(B):\n",
    "        print(i)\n",
    "        S.append(get_signal(pi,partitions))\n",
    "        \n",
    "    S = pd.DataFrame(S)  \n",
    "    Cs = np.where(S==1, 1,0)\n",
    "    Cs = np.sum(Cs, axis=0)                               # Number of active particles vs time    \n",
    "    N = np.shape(S)[1]                                    # Number of time levels\n",
    "    # Calculate Observations (Noise)\n",
    "    Miu_back = 2e+4                                       # Background photons emission rate (photon/s)\n",
    "    Miu = pd.DataFrame(index=range(B),columns=range(N))   # Emission rate for each particle at time level n (photon/s)\n",
    "    miu_bright = 1e+5                                     # Emission rate at the Bright state (photon/s)\n",
    "    miu_dark = 0.0                                        # Emission rate at the Dark state (photon/s)\n",
    "    matches = S[(S==1)]\n",
    "    # Get emission rate for each particle in time\n",
    "    Miu = np.where(matches==1,miu_bright,miu_dark)        # Change in emission rate for each particle over time \n",
    "    tn = 0.95*step                                        # Total exposure time (s)\n",
    "    Wn = pd.Series(ss.poisson.rvs(mu=(tn*(Miu_back+Miu.sum(axis=0)))))\n",
    "    return S, Cs, Wn, Miu"
   ]
  },
  {
   "cell_type": "code",
   "execution_count": 5,
   "metadata": {},
   "outputs": [],
   "source": [
    "# Our time step is uniform: \n",
    "B = 1      # Number of fluorphored particles\n",
    "step = 0.01 # [S]\n",
    "partitions = [i*step for i in range(round(200./step))]\n",
    "# partitions = np.random.uniform(0,0.001,400000)"
   ]
  },
  {
   "cell_type": "code",
   "execution_count": 6,
   "metadata": {},
   "outputs": [],
   "source": [
    "pi = transition_matrix(step)"
   ]
  },
  {
   "cell_type": "code",
   "execution_count": 7,
   "metadata": {
    "scrolled": true
   },
   "outputs": [
    {
     "data": {
      "text/plain": [
       "array([[9.95012479e-01, 4.72285706e-03, 2.40596046e-04, 2.40677016e-05],\n",
       "       [0.00000000e+00, 8.95880600e-01, 9.46496180e-02, 9.46978182e-03],\n",
       "       [0.00000000e+00, 9.46496180e-04, 9.99048684e-01, 4.82001787e-06],\n",
       "       [0.00000000e+00, 0.00000000e+00, 0.00000000e+00, 1.00000000e+00]])"
      ]
     },
     "execution_count": 7,
     "metadata": {},
     "output_type": "execute_result"
    }
   ],
   "source": [
    "pi"
   ]
  },
  {
   "cell_type": "code",
   "execution_count": null,
   "metadata": {
    "scrolled": true
   },
   "outputs": [],
   "source": [
    "S, Cs, Wn, Miu = Generate_syntethic_data(step,pi,partitions,B)"
   ]
  },
  {
   "cell_type": "code",
   "execution_count": null,
   "metadata": {},
   "outputs": [],
   "source": [
    "S.to_csv('trajectory.csv')"
   ]
  },
  {
   "cell_type": "code",
   "execution_count": null,
   "metadata": {},
   "outputs": [],
   "source": [
    "t = partitions"
   ]
  },
  {
   "cell_type": "code",
   "execution_count": null,
   "metadata": {},
   "outputs": [],
   "source": [
    "Wnm = pd.DataFrame([ss.poisson.rvs(mu=(tn*(Miu[m,:]))) for m in range(B)])"
   ]
  },
  {
   "cell_type": "code",
   "execution_count": null,
   "metadata": {},
   "outputs": [],
   "source": [
    "fig = plt.figure(figsize=(10,16)) \n",
    "plt.style.use('ggplot')\n",
    "sns.set_style('ticks')\n",
    "plt.rcParams['font.size'] = 12\n",
    "\n",
    "n = 0\n",
    "for m in range(B):\n",
    "    ax = fig.add_subplot(5,3,n+1)\n",
    "    plt.scatter(t[:-1],Wnm.iloc[m,:]) \n",
    "#         if n % 3 == 0:\n",
    "#             ax.set_ylabel('State')\n",
    "#         if n>11:\n",
    "#             ax.set_xlabel('time (s)')\n",
    "    ax.set_title(r'$particle-ID: {}$'.format(str(m)))\n",
    "    ax.legend().set_visible(False)\n",
    "    sns.despine(offset=12,ax=ax,trim=True)\n",
    "    n = n+1\n",
    "\n",
    "# plt.subplots_adjust(top=0.92,bottom=0.08,left=0.1,right=0.95,wspace=0.6,hspace=0.6)\n",
    "plt.tight_layout()\n",
    "plt.show() "
   ]
  },
  {
   "cell_type": "code",
   "execution_count": null,
   "metadata": {},
   "outputs": [],
   "source": [
    "def plot_state(df):\n",
    "    fig = plt.figure(figsize=(10,16)) \n",
    "    plt.style.use('ggplot')\n",
    "    sns.set_style('ticks')\n",
    "    plt.rcParams['font.size'] = 12\n",
    "\n",
    "    n = 0\n",
    "    for i in range(len(df)):\n",
    "        ax = fig.add_subplot(5,3,n+1)\n",
    "        plt.step(x=t[:-1],y=S.iloc[i,:])\n",
    "        if n % 3 == 0:\n",
    "            ax.set_ylabel('State')\n",
    "        if n>11:\n",
    "            ax.set_xlabel('time (s)')\n",
    "        ax.set_title(r'$particle-ID: {}$'.format(str(i)))\n",
    "        ax.legend().set_visible(False)\n",
    "        sns.despine(offset=12,ax=ax,trim=True)\n",
    "        n = n+1\n",
    "\n",
    "    # plt.subplots_adjust(top=0.92,bottom=0.08,left=0.1,right=0.95,wspace=0.6,hspace=0.6)\n",
    "    plt.tight_layout()\n",
    "    plt.show() \n",
    "    return None"
   ]
  },
  {
   "cell_type": "code",
   "execution_count": null,
   "metadata": {},
   "outputs": [],
   "source": [
    "np.shape(S.iloc[0,:])"
   ]
  },
  {
   "cell_type": "code",
   "execution_count": null,
   "metadata": {},
   "outputs": [],
   "source": [
    "plt.step(x=t[:12000],y=S.iloc[0,:12000])"
   ]
  },
  {
   "cell_type": "code",
   "execution_count": null,
   "metadata": {
    "scrolled": false
   },
   "outputs": [],
   "source": [
    "plot_state(S)"
   ]
  },
  {
   "cell_type": "code",
   "execution_count": null,
   "metadata": {},
   "outputs": [],
   "source": [
    "def get_plot(df,xlabel,ylabel):\n",
    "    fig = plt.figure(figsize=(4,4)) \n",
    "    plt.style.use('ggplot')\n",
    "    sns.set_style('ticks')\n",
    "    plt.rcParams['font.size'] = 12\n",
    "    plt.plot(t[:-1],df)\n",
    "    plt.ylabel(ylabel)\n",
    "    plt.xlabel(xlabel)\n",
    "    plt.tight_layout()\n",
    "    sns.despine(offset=10)\n",
    "    return None"
   ]
  },
  {
   "cell_type": "code",
   "execution_count": null,
   "metadata": {},
   "outputs": [],
   "source": [
    "get_plot(Cs,'time (S)','$N^{Active}_{Particles}$')"
   ]
  },
  {
   "cell_type": "code",
   "execution_count": null,
   "metadata": {},
   "outputs": [],
   "source": [
    "get_plot(Wn,'time (s)','$N^{Emitted}_{Photons}$')"
   ]
  },
  {
   "cell_type": "code",
   "execution_count": null,
   "metadata": {},
   "outputs": [],
   "source": [
    "len(t[:-1])"
   ]
  },
  {
   "cell_type": "code",
   "execution_count": null,
   "metadata": {},
   "outputs": [],
   "source": [
    "out = pd.concat([pd.Series(t[:-1]),Wn],axis=1)"
   ]
  },
  {
   "cell_type": "code",
   "execution_count": null,
   "metadata": {},
   "outputs": [],
   "source": [
    "out.to_csv('observation.csv')"
   ]
  },
  {
   "cell_type": "code",
   "execution_count": null,
   "metadata": {},
   "outputs": [],
   "source": [
    "mu = [tn[n]*(Miu_back+Miu.sum(axis=0)[n]) for n in range(N)]"
   ]
  },
  {
   "cell_type": "code",
   "execution_count": null,
   "metadata": {
    "scrolled": true
   },
   "outputs": [],
   "source": [
    "x = plt.hist(Wn,bins=100)\n",
    "# Y = plt.hist(mu, bins=100)\n",
    "plt.ylim([0,20])"
   ]
  },
  {
   "cell_type": "code",
   "execution_count": null,
   "metadata": {},
   "outputs": [],
   "source": []
  },
  {
   "cell_type": "code",
   "execution_count": null,
   "metadata": {},
   "outputs": [],
   "source": []
  },
  {
   "cell_type": "code",
   "execution_count": null,
   "metadata": {},
   "outputs": [],
   "source": []
  },
  {
   "cell_type": "code",
   "execution_count": null,
   "metadata": {},
   "outputs": [],
   "source": []
  },
  {
   "cell_type": "code",
   "execution_count": null,
   "metadata": {},
   "outputs": [],
   "source": []
  }
 ],
 "metadata": {
  "kernelspec": {
   "display_name": "Python 3",
   "language": "python",
   "name": "python3"
  },
  "language_info": {
   "codemirror_mode": {
    "name": "ipython",
    "version": 3
   },
   "file_extension": ".py",
   "mimetype": "text/x-python",
   "name": "python",
   "nbconvert_exporter": "python",
   "pygments_lexer": "ipython3",
   "version": "3.5.5"
  }
 },
 "nbformat": 4,
 "nbformat_minor": 2
}

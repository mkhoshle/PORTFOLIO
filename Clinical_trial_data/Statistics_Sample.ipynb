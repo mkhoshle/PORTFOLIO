{
 "cells": [
  {
   "cell_type": "markdown",
   "metadata": {},
   "source": [
    "# Statistics Sample "
   ]
  },
  {
   "cell_type": "markdown",
   "metadata": {},
   "source": [
    "A researcher needs your statistical expertise to evaluate an intervention. The six-month intervention was to give subjects a special exercise plan. The researcher randomized 2,500 people to the treatment group (which receives the intervention) and another 2,500 to the control group (does not receive the intervention). The physician wishes to evaluate the subjects’ health outcomes (weight and self-rated health) before the start of the intervention and immediately after the intervention. <br>\n",
    "The physician wants to know whether the new exercise plan will affect one’s overall health (measured by change in weight and self-rated health) differently for those receiving the new exercise plan versus those not receiving the exercise plan."
   ]
  },
  {
   "cell_type": "markdown",
   "metadata": {},
   "source": [
    "$\\textbf{Population:}$ Individuals who either receive the treatment or do not receive the treatment.<br>\n",
    "$\\textbf{Parameter of Interest:}$ WEIGHT_DIFF, SRH_DIFF\n",
    "\n",
    "$\\textbf{Data:}$ 5000 people were studied. 50% of those received treatment and 50% did not receive treatments."
   ]
  },
  {
   "cell_type": "markdown",
   "metadata": {},
   "source": [
    "# Research Questions: "
   ]
  },
  {
   "cell_type": "markdown",
   "metadata": {},
   "source": [
    "1. Create an analytic dataset by appropriately combining the 4 data files, and provide code for how you arrived at your analytic data set.  Describe your workflow.<br>\n",
    "2. Explore and analyze the data as you see fit. Please show at least one plot.<br>\n",
    "3. Explain what you did in #2 and tell us why you decided on that method. <br>\n",
    "4. Explain the results to the investigator. Please assume the investigator has limited statistical knowledge. Tell her whether there is or is not a treatment effect and if so, how the two groups differ with respect to their weight profiles and SRH over time."
   ]
  },
  {
   "cell_type": "code",
   "execution_count": 8,
   "metadata": {},
   "outputs": [],
   "source": [
    "import numpy as np\n",
    "import pandas as pd\n",
    "import matplotlib.pyplot as plt\n",
    "from IPython.display import display\n",
    "import seaborn.apionly as sns\n",
    "plt.style.use('ggplot')\n",
    "sns.set_style('ticks')\n",
    "import matplotlib.ticker as ticker\n",
    "from IPython.display import Image\n",
    "import collections\n",
    "from functools import reduce \n",
    "from functools import reduce\n",
    "import numpy\n",
    "import sys\n",
    "import math\n",
    "\n",
    "# Enable inline plotting  \n",
    "%matplotlib inline"
   ]
  },
  {
   "cell_type": "markdown",
   "metadata": {},
   "source": [
    "# Data Acquisition "
   ]
  },
  {
   "cell_type": "code",
   "execution_count": 2,
   "metadata": {},
   "outputs": [],
   "source": [
    "data1 = 'data1_age_sex_race.csv'\n",
    "data2 = 'data2_SRH.csv'\n",
    "data3a = 'data3a_weight_trt.csv'\n",
    "data3b = 'data3b_weight_con.csv'"
   ]
  },
  {
   "cell_type": "code",
   "execution_count": 3,
   "metadata": {},
   "outputs": [],
   "source": [
    "df1 = pd.read_csv(data1,delimiter=',')"
   ]
  },
  {
   "cell_type": "code",
   "execution_count": 4,
   "metadata": {},
   "outputs": [],
   "source": [
    "df1 = df1['SexAge_Race'].str.split('_', n = 1, expand = True)"
   ]
  },
  {
   "cell_type": "code",
   "execution_count": 5,
   "metadata": {},
   "outputs": [],
   "source": [
    "df1 = pd.concat([pd.Series(range(1,5001)),df1[0].str.split('(\\d.*)', n = 1, expand = True).iloc[:,:2],df1[1]],axis=1)"
   ]
  },
  {
   "cell_type": "code",
   "execution_count": 6,
   "metadata": {},
   "outputs": [],
   "source": [
    "df1.columns = ['ID','Sex','Age','Race']"
   ]
  },
  {
   "cell_type": "code",
   "execution_count": 7,
   "metadata": {},
   "outputs": [],
   "source": [
    "df1['Age'] = df1['Age'].astype('float')"
   ]
  },
  {
   "cell_type": "code",
   "execution_count": 9,
   "metadata": {},
   "outputs": [
    {
     "data": {
      "text/html": [
       "<div>\n",
       "<style scoped>\n",
       "    .dataframe tbody tr th:only-of-type {\n",
       "        vertical-align: middle;\n",
       "    }\n",
       "\n",
       "    .dataframe tbody tr th {\n",
       "        vertical-align: top;\n",
       "    }\n",
       "\n",
       "    .dataframe thead th {\n",
       "        text-align: right;\n",
       "    }\n",
       "</style>\n",
       "<table border=\"1\" class=\"dataframe\">\n",
       "  <thead>\n",
       "    <tr style=\"text-align: right;\">\n",
       "      <th></th>\n",
       "      <th>ID</th>\n",
       "      <th>Sex</th>\n",
       "      <th>Age</th>\n",
       "      <th>Race</th>\n",
       "    </tr>\n",
       "  </thead>\n",
       "  <tbody>\n",
       "    <tr>\n",
       "      <th>0</th>\n",
       "      <td>1</td>\n",
       "      <td>MALE</td>\n",
       "      <td>41.2</td>\n",
       "      <td>White</td>\n",
       "    </tr>\n",
       "    <tr>\n",
       "      <th>1</th>\n",
       "      <td>2</td>\n",
       "      <td>FEMALE</td>\n",
       "      <td>42.9</td>\n",
       "      <td>White</td>\n",
       "    </tr>\n",
       "    <tr>\n",
       "      <th>2</th>\n",
       "      <td>3</td>\n",
       "      <td>FEMALE</td>\n",
       "      <td>38.5</td>\n",
       "      <td>White</td>\n",
       "    </tr>\n",
       "    <tr>\n",
       "      <th>3</th>\n",
       "      <td>4</td>\n",
       "      <td>FEMALE</td>\n",
       "      <td>35.6</td>\n",
       "      <td>Hispanic</td>\n",
       "    </tr>\n",
       "    <tr>\n",
       "      <th>4</th>\n",
       "      <td>5</td>\n",
       "      <td>FEMALE</td>\n",
       "      <td>48.5</td>\n",
       "      <td>White</td>\n",
       "    </tr>\n",
       "  </tbody>\n",
       "</table>\n",
       "</div>"
      ],
      "text/plain": [
       "   ID     Sex   Age      Race\n",
       "0   1    MALE  41.2     White\n",
       "1   2  FEMALE  42.9     White\n",
       "2   3  FEMALE  38.5     White\n",
       "3   4  FEMALE  35.6  Hispanic\n",
       "4   5  FEMALE  48.5     White"
      ]
     },
     "execution_count": 9,
     "metadata": {},
     "output_type": "execute_result"
    }
   ],
   "source": [
    "df1.head()"
   ]
  },
  {
   "cell_type": "code",
   "execution_count": 10,
   "metadata": {},
   "outputs": [],
   "source": [
    "df2 = pd.read_csv(data2,delimiter=',')\n",
    "df2.columns = ['ID','trt','TIME','SRH']"
   ]
  },
  {
   "cell_type": "code",
   "execution_count": 11,
   "metadata": {},
   "outputs": [],
   "source": [
    "df2['POST_SRH'] = df2[df2['TIME']=='POST']['SRH']\n",
    "df2['PRE_SRH'] = df2[df2['TIME']=='PRE']['SRH']\n",
    "df2 = df2.drop(['TIME','SRH'],axis=1)"
   ]
  },
  {
   "cell_type": "code",
   "execution_count": 88,
   "metadata": {},
   "outputs": [],
   "source": [
    "df2 = df2.groupby(by='ID',as_index='False').agg({'POST_SRH':'first',\n",
    "                                                 'PRE_SRH':'first','trt':'first'}).reset_index()"
   ]
  },
  {
   "cell_type": "code",
   "execution_count": 13,
   "metadata": {},
   "outputs": [
    {
     "data": {
      "text/html": [
       "<div>\n",
       "<style scoped>\n",
       "    .dataframe tbody tr th:only-of-type {\n",
       "        vertical-align: middle;\n",
       "    }\n",
       "\n",
       "    .dataframe tbody tr th {\n",
       "        vertical-align: top;\n",
       "    }\n",
       "\n",
       "    .dataframe thead th {\n",
       "        text-align: right;\n",
       "    }\n",
       "</style>\n",
       "<table border=\"1\" class=\"dataframe\">\n",
       "  <thead>\n",
       "    <tr style=\"text-align: right;\">\n",
       "      <th></th>\n",
       "      <th>ID</th>\n",
       "      <th>PRE_SRH</th>\n",
       "      <th>POST_SRH</th>\n",
       "      <th>trt</th>\n",
       "    </tr>\n",
       "  </thead>\n",
       "  <tbody>\n",
       "    <tr>\n",
       "      <th>0</th>\n",
       "      <td>1</td>\n",
       "      <td>Good</td>\n",
       "      <td>Poor</td>\n",
       "      <td>1</td>\n",
       "    </tr>\n",
       "    <tr>\n",
       "      <th>1</th>\n",
       "      <td>2</td>\n",
       "      <td>Poor</td>\n",
       "      <td>Very Poor</td>\n",
       "      <td>1</td>\n",
       "    </tr>\n",
       "    <tr>\n",
       "      <th>2</th>\n",
       "      <td>3</td>\n",
       "      <td>Satisfactory</td>\n",
       "      <td>Good</td>\n",
       "      <td>1</td>\n",
       "    </tr>\n",
       "    <tr>\n",
       "      <th>3</th>\n",
       "      <td>4</td>\n",
       "      <td>Poor</td>\n",
       "      <td>Good</td>\n",
       "      <td>1</td>\n",
       "    </tr>\n",
       "    <tr>\n",
       "      <th>4</th>\n",
       "      <td>5</td>\n",
       "      <td>Poor</td>\n",
       "      <td>Poor</td>\n",
       "      <td>1</td>\n",
       "    </tr>\n",
       "  </tbody>\n",
       "</table>\n",
       "</div>"
      ],
      "text/plain": [
       "   ID       PRE_SRH   POST_SRH  trt\n",
       "0   1          Good       Poor    1\n",
       "1   2          Poor  Very Poor    1\n",
       "2   3  Satisfactory       Good    1\n",
       "3   4          Poor       Good    1\n",
       "4   5          Poor       Poor    1"
      ]
     },
     "execution_count": 13,
     "metadata": {},
     "output_type": "execute_result"
    }
   ],
   "source": [
    "df2.head()"
   ]
  },
  {
   "cell_type": "code",
   "execution_count": 14,
   "metadata": {},
   "outputs": [],
   "source": [
    "df3a = pd.read_csv(data3a,delimiter=',')\n",
    "df3a.columns = ['ID','PRE_WEIGHT','POST_WEIGHT']"
   ]
  },
  {
   "cell_type": "code",
   "execution_count": 15,
   "metadata": {},
   "outputs": [
    {
     "data": {
      "text/html": [
       "<div>\n",
       "<style scoped>\n",
       "    .dataframe tbody tr th:only-of-type {\n",
       "        vertical-align: middle;\n",
       "    }\n",
       "\n",
       "    .dataframe tbody tr th {\n",
       "        vertical-align: top;\n",
       "    }\n",
       "\n",
       "    .dataframe thead th {\n",
       "        text-align: right;\n",
       "    }\n",
       "</style>\n",
       "<table border=\"1\" class=\"dataframe\">\n",
       "  <thead>\n",
       "    <tr style=\"text-align: right;\">\n",
       "      <th></th>\n",
       "      <th>ID</th>\n",
       "      <th>PRE_WEIGHT</th>\n",
       "      <th>POST_WEIGHT</th>\n",
       "    </tr>\n",
       "  </thead>\n",
       "  <tbody>\n",
       "    <tr>\n",
       "      <th>0</th>\n",
       "      <td>1</td>\n",
       "      <td>135.2510</td>\n",
       "      <td>NaN</td>\n",
       "    </tr>\n",
       "    <tr>\n",
       "      <th>1</th>\n",
       "      <td>1</td>\n",
       "      <td>NaN</td>\n",
       "      <td>125.6678</td>\n",
       "    </tr>\n",
       "    <tr>\n",
       "      <th>2</th>\n",
       "      <td>2</td>\n",
       "      <td>154.8713</td>\n",
       "      <td>NaN</td>\n",
       "    </tr>\n",
       "    <tr>\n",
       "      <th>3</th>\n",
       "      <td>2</td>\n",
       "      <td>NaN</td>\n",
       "      <td>153.9882</td>\n",
       "    </tr>\n",
       "    <tr>\n",
       "      <th>4</th>\n",
       "      <td>3</td>\n",
       "      <td>128.1951</td>\n",
       "      <td>NaN</td>\n",
       "    </tr>\n",
       "  </tbody>\n",
       "</table>\n",
       "</div>"
      ],
      "text/plain": [
       "   ID  PRE_WEIGHT  POST_WEIGHT\n",
       "0   1    135.2510          NaN\n",
       "1   1         NaN     125.6678\n",
       "2   2    154.8713          NaN\n",
       "3   2         NaN     153.9882\n",
       "4   3    128.1951          NaN"
      ]
     },
     "execution_count": 15,
     "metadata": {},
     "output_type": "execute_result"
    }
   ],
   "source": [
    "df3a.head()"
   ]
  },
  {
   "cell_type": "code",
   "execution_count": 16,
   "metadata": {},
   "outputs": [],
   "source": [
    "df3b = pd.read_csv(data3b,delimiter=',')\n",
    "df3b.columns = ['ID','PRE_WEIGHT','POST_WEIGHT']"
   ]
  },
  {
   "cell_type": "code",
   "execution_count": 17,
   "metadata": {},
   "outputs": [
    {
     "data": {
      "text/html": [
       "<div>\n",
       "<style scoped>\n",
       "    .dataframe tbody tr th:only-of-type {\n",
       "        vertical-align: middle;\n",
       "    }\n",
       "\n",
       "    .dataframe tbody tr th {\n",
       "        vertical-align: top;\n",
       "    }\n",
       "\n",
       "    .dataframe thead th {\n",
       "        text-align: right;\n",
       "    }\n",
       "</style>\n",
       "<table border=\"1\" class=\"dataframe\">\n",
       "  <thead>\n",
       "    <tr style=\"text-align: right;\">\n",
       "      <th></th>\n",
       "      <th>ID</th>\n",
       "      <th>PRE_WEIGHT</th>\n",
       "      <th>POST_WEIGHT</th>\n",
       "    </tr>\n",
       "  </thead>\n",
       "  <tbody>\n",
       "    <tr>\n",
       "      <th>0</th>\n",
       "      <td>2501</td>\n",
       "      <td>159.7587</td>\n",
       "      <td>NaN</td>\n",
       "    </tr>\n",
       "    <tr>\n",
       "      <th>1</th>\n",
       "      <td>2501</td>\n",
       "      <td>NaN</td>\n",
       "      <td>158.692</td>\n",
       "    </tr>\n",
       "    <tr>\n",
       "      <th>2</th>\n",
       "      <td>2502</td>\n",
       "      <td>176.1611</td>\n",
       "      <td>NaN</td>\n",
       "    </tr>\n",
       "    <tr>\n",
       "      <th>3</th>\n",
       "      <td>2502</td>\n",
       "      <td>NaN</td>\n",
       "      <td>174.827</td>\n",
       "    </tr>\n",
       "    <tr>\n",
       "      <th>4</th>\n",
       "      <td>2503</td>\n",
       "      <td>181.3907</td>\n",
       "      <td>NaN</td>\n",
       "    </tr>\n",
       "  </tbody>\n",
       "</table>\n",
       "</div>"
      ],
      "text/plain": [
       "     ID  PRE_WEIGHT  POST_WEIGHT\n",
       "0  2501    159.7587          NaN\n",
       "1  2501         NaN      158.692\n",
       "2  2502    176.1611          NaN\n",
       "3  2502         NaN      174.827\n",
       "4  2503    181.3907          NaN"
      ]
     },
     "execution_count": 17,
     "metadata": {},
     "output_type": "execute_result"
    }
   ],
   "source": [
    "df3b.head()"
   ]
  },
  {
   "cell_type": "code",
   "execution_count": 18,
   "metadata": {},
   "outputs": [],
   "source": [
    "df3 = pd.merge(df3a,df3b,on=['ID','PRE_WEIGHT','POST_WEIGHT'],how='outer')"
   ]
  },
  {
   "cell_type": "code",
   "execution_count": 19,
   "metadata": {},
   "outputs": [],
   "source": [
    "df3 = df3.groupby(by='ID',as_index='False').agg({'PRE_WEIGHT':'first','POST_WEIGHT':'first'}).reset_index()"
   ]
  },
  {
   "cell_type": "code",
   "execution_count": 20,
   "metadata": {},
   "outputs": [
    {
     "data": {
      "text/html": [
       "<div>\n",
       "<style scoped>\n",
       "    .dataframe tbody tr th:only-of-type {\n",
       "        vertical-align: middle;\n",
       "    }\n",
       "\n",
       "    .dataframe tbody tr th {\n",
       "        vertical-align: top;\n",
       "    }\n",
       "\n",
       "    .dataframe thead th {\n",
       "        text-align: right;\n",
       "    }\n",
       "</style>\n",
       "<table border=\"1\" class=\"dataframe\">\n",
       "  <thead>\n",
       "    <tr style=\"text-align: right;\">\n",
       "      <th></th>\n",
       "      <th>ID</th>\n",
       "      <th>POST_WEIGHT</th>\n",
       "      <th>PRE_WEIGHT</th>\n",
       "    </tr>\n",
       "  </thead>\n",
       "  <tbody>\n",
       "    <tr>\n",
       "      <th>0</th>\n",
       "      <td>1</td>\n",
       "      <td>125.6678</td>\n",
       "      <td>135.2510</td>\n",
       "    </tr>\n",
       "    <tr>\n",
       "      <th>1</th>\n",
       "      <td>2</td>\n",
       "      <td>153.9882</td>\n",
       "      <td>154.8713</td>\n",
       "    </tr>\n",
       "    <tr>\n",
       "      <th>2</th>\n",
       "      <td>3</td>\n",
       "      <td>115.5969</td>\n",
       "      <td>128.1951</td>\n",
       "    </tr>\n",
       "    <tr>\n",
       "      <th>3</th>\n",
       "      <td>4</td>\n",
       "      <td>177.0187</td>\n",
       "      <td>183.4600</td>\n",
       "    </tr>\n",
       "    <tr>\n",
       "      <th>4</th>\n",
       "      <td>5</td>\n",
       "      <td>163.9262</td>\n",
       "      <td>166.3726</td>\n",
       "    </tr>\n",
       "  </tbody>\n",
       "</table>\n",
       "</div>"
      ],
      "text/plain": [
       "   ID  POST_WEIGHT  PRE_WEIGHT\n",
       "0   1     125.6678    135.2510\n",
       "1   2     153.9882    154.8713\n",
       "2   3     115.5969    128.1951\n",
       "3   4     177.0187    183.4600\n",
       "4   5     163.9262    166.3726"
      ]
     },
     "execution_count": 20,
     "metadata": {},
     "output_type": "execute_result"
    }
   ],
   "source": [
    "df3.head()"
   ]
  },
  {
   "cell_type": "code",
   "execution_count": 21,
   "metadata": {},
   "outputs": [],
   "source": [
    "df_final = reduce(lambda x,y: pd.merge(x,y,on='ID',how='outer'),[df1,df2,df3])"
   ]
  },
  {
   "cell_type": "markdown",
   "metadata": {},
   "source": [
    "# Data Preparation "
   ]
  },
  {
   "cell_type": "code",
   "execution_count": 22,
   "metadata": {},
   "outputs": [],
   "source": [
    "categorical_field_names = ['Sex','Race']\n",
    "for c in categorical_field_names:\n",
    "    df_final[c] = df_final[c].astype('category')\n",
    "    \n",
    "df_final['trt'] = df_final['trt'].astype('Int64')\n",
    "df_final['Age'] = df_final['Age'].astype('float')\n",
    "df_final['PRE_WEIGHT'] = df_final['PRE_WEIGHT'].astype('float')\n",
    "df_final['POST_WEIGHT'] = df_final['POST_WEIGHT'].astype('float')"
   ]
  },
  {
   "cell_type": "markdown",
   "metadata": {},
   "source": [
    "Here we calculate the weight difference in all the analysis instead of pre weight and post weight. Generally, negative weight difference is desired."
   ]
  },
  {
   "cell_type": "code",
   "execution_count": 23,
   "metadata": {},
   "outputs": [],
   "source": [
    "df_final['WEIGHT_DIFF'] = df_final['POST_WEIGHT']-df_final['PRE_WEIGHT']"
   ]
  },
  {
   "cell_type": "code",
   "execution_count": 24,
   "metadata": {},
   "outputs": [
    {
     "data": {
      "text/html": [
       "<div>\n",
       "<style scoped>\n",
       "    .dataframe tbody tr th:only-of-type {\n",
       "        vertical-align: middle;\n",
       "    }\n",
       "\n",
       "    .dataframe tbody tr th {\n",
       "        vertical-align: top;\n",
       "    }\n",
       "\n",
       "    .dataframe thead th {\n",
       "        text-align: right;\n",
       "    }\n",
       "</style>\n",
       "<table border=\"1\" class=\"dataframe\">\n",
       "  <thead>\n",
       "    <tr style=\"text-align: right;\">\n",
       "      <th></th>\n",
       "      <th>ID</th>\n",
       "      <th>Sex</th>\n",
       "      <th>Age</th>\n",
       "      <th>Race</th>\n",
       "      <th>PRE_SRH</th>\n",
       "      <th>POST_SRH</th>\n",
       "      <th>trt</th>\n",
       "      <th>POST_WEIGHT</th>\n",
       "      <th>PRE_WEIGHT</th>\n",
       "      <th>WEIGHT_DIFF</th>\n",
       "    </tr>\n",
       "  </thead>\n",
       "  <tbody>\n",
       "    <tr>\n",
       "      <th>0</th>\n",
       "      <td>1</td>\n",
       "      <td>MALE</td>\n",
       "      <td>41.2</td>\n",
       "      <td>White</td>\n",
       "      <td>Good</td>\n",
       "      <td>Poor</td>\n",
       "      <td>1</td>\n",
       "      <td>125.6678</td>\n",
       "      <td>135.2510</td>\n",
       "      <td>-9.5832</td>\n",
       "    </tr>\n",
       "    <tr>\n",
       "      <th>1</th>\n",
       "      <td>2</td>\n",
       "      <td>FEMALE</td>\n",
       "      <td>42.9</td>\n",
       "      <td>White</td>\n",
       "      <td>Poor</td>\n",
       "      <td>Very Poor</td>\n",
       "      <td>1</td>\n",
       "      <td>153.9882</td>\n",
       "      <td>154.8713</td>\n",
       "      <td>-0.8831</td>\n",
       "    </tr>\n",
       "    <tr>\n",
       "      <th>2</th>\n",
       "      <td>3</td>\n",
       "      <td>FEMALE</td>\n",
       "      <td>38.5</td>\n",
       "      <td>White</td>\n",
       "      <td>Satisfactory</td>\n",
       "      <td>Good</td>\n",
       "      <td>1</td>\n",
       "      <td>115.5969</td>\n",
       "      <td>128.1951</td>\n",
       "      <td>-12.5982</td>\n",
       "    </tr>\n",
       "    <tr>\n",
       "      <th>3</th>\n",
       "      <td>4</td>\n",
       "      <td>FEMALE</td>\n",
       "      <td>35.6</td>\n",
       "      <td>Hispanic</td>\n",
       "      <td>Poor</td>\n",
       "      <td>Good</td>\n",
       "      <td>1</td>\n",
       "      <td>177.0187</td>\n",
       "      <td>183.4600</td>\n",
       "      <td>-6.4413</td>\n",
       "    </tr>\n",
       "    <tr>\n",
       "      <th>4</th>\n",
       "      <td>5</td>\n",
       "      <td>FEMALE</td>\n",
       "      <td>48.5</td>\n",
       "      <td>White</td>\n",
       "      <td>Poor</td>\n",
       "      <td>Poor</td>\n",
       "      <td>1</td>\n",
       "      <td>163.9262</td>\n",
       "      <td>166.3726</td>\n",
       "      <td>-2.4464</td>\n",
       "    </tr>\n",
       "  </tbody>\n",
       "</table>\n",
       "</div>"
      ],
      "text/plain": [
       "   ID     Sex   Age      Race       PRE_SRH   POST_SRH  trt  POST_WEIGHT  \\\n",
       "0   1    MALE  41.2     White          Good       Poor    1     125.6678   \n",
       "1   2  FEMALE  42.9     White          Poor  Very Poor    1     153.9882   \n",
       "2   3  FEMALE  38.5     White  Satisfactory       Good    1     115.5969   \n",
       "3   4  FEMALE  35.6  Hispanic          Poor       Good    1     177.0187   \n",
       "4   5  FEMALE  48.5     White          Poor       Poor    1     163.9262   \n",
       "\n",
       "   PRE_WEIGHT  WEIGHT_DIFF  \n",
       "0    135.2510      -9.5832  \n",
       "1    154.8713      -0.8831  \n",
       "2    128.1951     -12.5982  \n",
       "3    183.4600      -6.4413  \n",
       "4    166.3726      -2.4464  "
      ]
     },
     "execution_count": 24,
     "metadata": {},
     "output_type": "execute_result"
    }
   ],
   "source": [
    "df_final.head()"
   ]
  },
  {
   "cell_type": "markdown",
   "metadata": {},
   "source": [
    "## Generate summary statistics "
   ]
  },
  {
   "cell_type": "markdown",
   "metadata": {},
   "source": [
    "Create a summary of the all quantitaive parameters."
   ]
  },
  {
   "cell_type": "code",
   "execution_count": 25,
   "metadata": {},
   "outputs": [
    {
     "data": {
      "text/html": [
       "<div>\n",
       "<style scoped>\n",
       "    .dataframe tbody tr th:only-of-type {\n",
       "        vertical-align: middle;\n",
       "    }\n",
       "\n",
       "    .dataframe tbody tr th {\n",
       "        vertical-align: top;\n",
       "    }\n",
       "\n",
       "    .dataframe thead th {\n",
       "        text-align: right;\n",
       "    }\n",
       "</style>\n",
       "<table border=\"1\" class=\"dataframe\">\n",
       "  <thead>\n",
       "    <tr style=\"text-align: right;\">\n",
       "      <th></th>\n",
       "      <th>Age</th>\n",
       "      <th>POST_WEIGHT</th>\n",
       "      <th>PRE_WEIGHT</th>\n",
       "      <th>WEIGHT_DIFF</th>\n",
       "    </tr>\n",
       "  </thead>\n",
       "  <tbody>\n",
       "    <tr>\n",
       "      <th>count</th>\n",
       "      <td>5000.000000</td>\n",
       "      <td>5000.000000</td>\n",
       "      <td>5000.000000</td>\n",
       "      <td>5000.000000</td>\n",
       "    </tr>\n",
       "    <tr>\n",
       "      <th>mean</th>\n",
       "      <td>38.889920</td>\n",
       "      <td>154.967374</td>\n",
       "      <td>159.855089</td>\n",
       "      <td>-4.887715</td>\n",
       "    </tr>\n",
       "    <tr>\n",
       "      <th>std</th>\n",
       "      <td>7.926338</td>\n",
       "      <td>21.661830</td>\n",
       "      <td>21.596117</td>\n",
       "      <td>7.645269</td>\n",
       "    </tr>\n",
       "    <tr>\n",
       "      <th>min</th>\n",
       "      <td>18.100000</td>\n",
       "      <td>78.090870</td>\n",
       "      <td>82.803790</td>\n",
       "      <td>-38.801200</td>\n",
       "    </tr>\n",
       "    <tr>\n",
       "      <th>25%</th>\n",
       "      <td>33.400000</td>\n",
       "      <td>140.109450</td>\n",
       "      <td>145.126975</td>\n",
       "      <td>-9.103075</td>\n",
       "    </tr>\n",
       "    <tr>\n",
       "      <th>50%</th>\n",
       "      <td>38.800000</td>\n",
       "      <td>154.624650</td>\n",
       "      <td>159.113800</td>\n",
       "      <td>-1.969600</td>\n",
       "    </tr>\n",
       "    <tr>\n",
       "      <th>75%</th>\n",
       "      <td>44.100000</td>\n",
       "      <td>169.540225</td>\n",
       "      <td>174.384500</td>\n",
       "      <td>0.031925</td>\n",
       "    </tr>\n",
       "    <tr>\n",
       "      <th>max</th>\n",
       "      <td>69.300000</td>\n",
       "      <td>229.274700</td>\n",
       "      <td>242.763200</td>\n",
       "      <td>18.347900</td>\n",
       "    </tr>\n",
       "  </tbody>\n",
       "</table>\n",
       "</div>"
      ],
      "text/plain": [
       "               Age  POST_WEIGHT   PRE_WEIGHT  WEIGHT_DIFF\n",
       "count  5000.000000  5000.000000  5000.000000  5000.000000\n",
       "mean     38.889920   154.967374   159.855089    -4.887715\n",
       "std       7.926338    21.661830    21.596117     7.645269\n",
       "min      18.100000    78.090870    82.803790   -38.801200\n",
       "25%      33.400000   140.109450   145.126975    -9.103075\n",
       "50%      38.800000   154.624650   159.113800    -1.969600\n",
       "75%      44.100000   169.540225   174.384500     0.031925\n",
       "max      69.300000   229.274700   242.763200    18.347900"
      ]
     },
     "execution_count": 25,
     "metadata": {},
     "output_type": "execute_result"
    }
   ],
   "source": [
    "df_final.loc[:,['Age','POST_WEIGHT','PRE_WEIGHT','WEIGHT_DIFF']].describe()"
   ]
  },
  {
   "cell_type": "markdown",
   "metadata": {},
   "source": [
    "Check to see if there are NANs in the final dataset."
   ]
  },
  {
   "cell_type": "code",
   "execution_count": 26,
   "metadata": {},
   "outputs": [
    {
     "data": {
      "text/plain": [
       "(array([], dtype=int64), array([], dtype=int64))"
      ]
     },
     "execution_count": 26,
     "metadata": {},
     "output_type": "execute_result"
    }
   ],
   "source": [
    "np.where(df_final.isna()=='True')"
   ]
  },
  {
   "cell_type": "markdown",
   "metadata": {},
   "source": [
    "## Label change for PRE_SRH and POST_SRH  "
   ]
  },
  {
   "cell_type": "markdown",
   "metadata": {},
   "source": [
    "Post SRH and Pre SRH are categorical variables and in order to be able to analyze their effect. There are five levels for SRH including very poor, poor, satisfactory, good, excellent. We assign 1, 2, 3, 4, 5 to each level respectively. In addition, we consider SRH_diff instead of Post SRH and Pre SRH. Generally a positive SRH_diff is desired."
   ]
  },
  {
   "cell_type": "markdown",
   "metadata": {},
   "source": [
    "Check if there are any mislabeled item for both POST_SRH and PRE_SRH"
   ]
  },
  {
   "cell_type": "code",
   "execution_count": 27,
   "metadata": {},
   "outputs": [
    {
     "data": {
      "text/plain": [
       "(array([   0,    1,    2, ..., 4997, 4998, 4999]),)"
      ]
     },
     "execution_count": 27,
     "metadata": {},
     "output_type": "execute_result"
    }
   ],
   "source": [
    "np.where((df_final['POST_SRH'].apply(type)==str))"
   ]
  },
  {
   "cell_type": "code",
   "execution_count": 28,
   "metadata": {},
   "outputs": [
    {
     "data": {
      "text/plain": [
       "(array([   0,    1,    2, ..., 4997, 4998, 4999]),)"
      ]
     },
     "execution_count": 28,
     "metadata": {},
     "output_type": "execute_result"
    }
   ],
   "source": [
    "np.where((df_final['PRE_SRH'].apply(type)==str))"
   ]
  },
  {
   "cell_type": "code",
   "execution_count": 29,
   "metadata": {},
   "outputs": [],
   "source": [
    "df_final.loc[df_final['POST_SRH']=='Excellent ','POST_SRH'] = 'Excellent'\n",
    "df_final.loc[df_final['POST_SRH']=='Very  Poor','POST_SRH'] = 'Very Poor'\n",
    "df_final.loc[df_final['PRE_SRH']=='Excellent ','PRE_SRH'] = 'Excellent'\n",
    "df_final.loc[df_final['PRE_SRH']=='Very  Poor','PRE_SRH'] = 'Very Poor'"
   ]
  },
  {
   "cell_type": "code",
   "execution_count": 30,
   "metadata": {},
   "outputs": [],
   "source": [
    "df_final.loc[df_final['POST_SRH']=='Very Poor','POST_SRH'] = 1\n",
    "df_final.loc[df_final['POST_SRH']=='Poor','POST_SRH'] = 2\n",
    "df_final.loc[df_final['POST_SRH']=='Satisfactory','POST_SRH'] = 3\n",
    "df_final.loc[df_final['POST_SRH']=='Good','POST_SRH'] = 4\n",
    "df_final.loc[df_final['POST_SRH']=='Excellent','POST_SRH'] = 5 "
   ]
  },
  {
   "cell_type": "code",
   "execution_count": 31,
   "metadata": {},
   "outputs": [],
   "source": [
    "df_final.loc[df_final['PRE_SRH']=='Very Poor','PRE_SRH'] = 1\n",
    "df_final.loc[df_final['PRE_SRH']=='Poor','PRE_SRH'] = 2\n",
    "df_final.loc[df_final['PRE_SRH']=='Satisfactory','PRE_SRH'] = 3\n",
    "df_final.loc[df_final['PRE_SRH']=='Good','PRE_SRH'] = 4\n",
    "df_final.loc[df_final['PRE_SRH']=='Excellent','PRE_SRH'] = 5 "
   ]
  },
  {
   "cell_type": "code",
   "execution_count": 32,
   "metadata": {},
   "outputs": [],
   "source": [
    "df_final['SRH_DIFF'] = df_final['POST_SRH']-df_final['PRE_SRH']"
   ]
  },
  {
   "cell_type": "code",
   "execution_count": 33,
   "metadata": {},
   "outputs": [
    {
     "data": {
      "text/html": [
       "<div>\n",
       "<style scoped>\n",
       "    .dataframe tbody tr th:only-of-type {\n",
       "        vertical-align: middle;\n",
       "    }\n",
       "\n",
       "    .dataframe tbody tr th {\n",
       "        vertical-align: top;\n",
       "    }\n",
       "\n",
       "    .dataframe thead th {\n",
       "        text-align: right;\n",
       "    }\n",
       "</style>\n",
       "<table border=\"1\" class=\"dataframe\">\n",
       "  <thead>\n",
       "    <tr style=\"text-align: right;\">\n",
       "      <th></th>\n",
       "      <th>ID</th>\n",
       "      <th>Sex</th>\n",
       "      <th>Age</th>\n",
       "      <th>Race</th>\n",
       "      <th>PRE_SRH</th>\n",
       "      <th>POST_SRH</th>\n",
       "      <th>trt</th>\n",
       "      <th>POST_WEIGHT</th>\n",
       "      <th>PRE_WEIGHT</th>\n",
       "      <th>WEIGHT_DIFF</th>\n",
       "      <th>SRH_DIFF</th>\n",
       "    </tr>\n",
       "  </thead>\n",
       "  <tbody>\n",
       "    <tr>\n",
       "      <th>0</th>\n",
       "      <td>1</td>\n",
       "      <td>MALE</td>\n",
       "      <td>41.2</td>\n",
       "      <td>White</td>\n",
       "      <td>4</td>\n",
       "      <td>2</td>\n",
       "      <td>1</td>\n",
       "      <td>125.6678</td>\n",
       "      <td>135.2510</td>\n",
       "      <td>-9.5832</td>\n",
       "      <td>-2</td>\n",
       "    </tr>\n",
       "    <tr>\n",
       "      <th>1</th>\n",
       "      <td>2</td>\n",
       "      <td>FEMALE</td>\n",
       "      <td>42.9</td>\n",
       "      <td>White</td>\n",
       "      <td>2</td>\n",
       "      <td>1</td>\n",
       "      <td>1</td>\n",
       "      <td>153.9882</td>\n",
       "      <td>154.8713</td>\n",
       "      <td>-0.8831</td>\n",
       "      <td>-1</td>\n",
       "    </tr>\n",
       "    <tr>\n",
       "      <th>2</th>\n",
       "      <td>3</td>\n",
       "      <td>FEMALE</td>\n",
       "      <td>38.5</td>\n",
       "      <td>White</td>\n",
       "      <td>3</td>\n",
       "      <td>4</td>\n",
       "      <td>1</td>\n",
       "      <td>115.5969</td>\n",
       "      <td>128.1951</td>\n",
       "      <td>-12.5982</td>\n",
       "      <td>1</td>\n",
       "    </tr>\n",
       "    <tr>\n",
       "      <th>3</th>\n",
       "      <td>4</td>\n",
       "      <td>FEMALE</td>\n",
       "      <td>35.6</td>\n",
       "      <td>Hispanic</td>\n",
       "      <td>2</td>\n",
       "      <td>4</td>\n",
       "      <td>1</td>\n",
       "      <td>177.0187</td>\n",
       "      <td>183.4600</td>\n",
       "      <td>-6.4413</td>\n",
       "      <td>2</td>\n",
       "    </tr>\n",
       "    <tr>\n",
       "      <th>4</th>\n",
       "      <td>5</td>\n",
       "      <td>FEMALE</td>\n",
       "      <td>48.5</td>\n",
       "      <td>White</td>\n",
       "      <td>2</td>\n",
       "      <td>2</td>\n",
       "      <td>1</td>\n",
       "      <td>163.9262</td>\n",
       "      <td>166.3726</td>\n",
       "      <td>-2.4464</td>\n",
       "      <td>0</td>\n",
       "    </tr>\n",
       "  </tbody>\n",
       "</table>\n",
       "</div>"
      ],
      "text/plain": [
       "   ID     Sex   Age      Race  PRE_SRH  POST_SRH  trt  POST_WEIGHT  \\\n",
       "0   1    MALE  41.2     White        4         2    1     125.6678   \n",
       "1   2  FEMALE  42.9     White        2         1    1     153.9882   \n",
       "2   3  FEMALE  38.5     White        3         4    1     115.5969   \n",
       "3   4  FEMALE  35.6  Hispanic        2         4    1     177.0187   \n",
       "4   5  FEMALE  48.5     White        2         2    1     163.9262   \n",
       "\n",
       "   PRE_WEIGHT  WEIGHT_DIFF  SRH_DIFF  \n",
       "0    135.2510      -9.5832        -2  \n",
       "1    154.8713      -0.8831        -1  \n",
       "2    128.1951     -12.5982         1  \n",
       "3    183.4600      -6.4413         2  \n",
       "4    166.3726      -2.4464         0  "
      ]
     },
     "execution_count": 33,
     "metadata": {},
     "output_type": "execute_result"
    }
   ],
   "source": [
    "df_final.head()"
   ]
  },
  {
   "cell_type": "markdown",
   "metadata": {},
   "source": [
    "# Data Visualization"
   ]
  },
  {
   "cell_type": "markdown",
   "metadata": {},
   "source": [
    "## Check if we have a balanced dataset across males and females."
   ]
  },
  {
   "cell_type": "code",
   "execution_count": 34,
   "metadata": {},
   "outputs": [
    {
     "data": {
      "text/plain": [
       "2444"
      ]
     },
     "execution_count": 34,
     "metadata": {},
     "output_type": "execute_result"
    }
   ],
   "source": [
    "len(df_final[df_final['Sex']=='MALE'])"
   ]
  },
  {
   "cell_type": "code",
   "execution_count": 35,
   "metadata": {},
   "outputs": [
    {
     "data": {
      "text/plain": [
       "2556"
      ]
     },
     "execution_count": 35,
     "metadata": {},
     "output_type": "execute_result"
    }
   ],
   "source": [
    "len(df_final[df_final['Sex']=='FEMALE'])"
   ]
  },
  {
   "cell_type": "markdown",
   "metadata": {},
   "source": [
    "## Check the proportion of people from different races in the whole population."
   ]
  },
  {
   "cell_type": "code",
   "execution_count": 36,
   "metadata": {},
   "outputs": [],
   "source": [
    "df_Race = df_final.groupby(by=['Race','trt'],as_index='False').count()"
   ]
  },
  {
   "cell_type": "code",
   "execution_count": 37,
   "metadata": {},
   "outputs": [],
   "source": [
    "df_Race = df_Race.reset_index()"
   ]
  },
  {
   "cell_type": "code",
   "execution_count": 38,
   "metadata": {},
   "outputs": [],
   "source": [
    "df_Race = df_Race.set_index('Race')"
   ]
  },
  {
   "cell_type": "code",
   "execution_count": 39,
   "metadata": {},
   "outputs": [
    {
     "data": {
      "image/png": "[encoded data removed]",
      "text/plain": [
       "<Figure size 432x288 with 1 Axes>"
      ]
     },
     "metadata": {
      "needs_background": "light"
     },
     "output_type": "display_data"
    }
   ],
   "source": [
    "width = 0.3          # width of bar\n",
    "x = np.arange(5)\n",
    "rects1 = plt.bar(x,'ID',data=df_Race[df_Race['trt']==0], width=width, label='trt=1',color='k')\n",
    "rects2 = plt.bar(x+width,'ID', data=df_Race[df_Race['trt']==1], width=width, label='trt=0',color='r')\n",
    "\n",
    "plt.xticks([r + width for r in range(len(x))], ['Asian', 'Black', 'Hispanic', 'NA', 'White'])\n",
    "plt.grid(which='major',linestyle=':', linewidth='0.5', axis='y', color='black')\n",
    "\n",
    "for p in rects1:\n",
    "    width, height = p.get_width(), p.get_height()\n",
    "    x, y = p.get_xy() \n",
    "    plt.text(x+0.01, y + height + 0.1,'{:.0%}'.format(height/2500))\n",
    "    \n",
    "for p in rects2:\n",
    "    width, height = p.get_width(), p.get_height()\n",
    "    x, y = p.get_xy() \n",
    "    plt.text(x, y + height + 0.1,'{:.0%}'.format(height/2500))\n",
    "\n",
    "plt.xlabel('Race')   \n",
    "plt.ylabel('Count')\n",
    "plt.legend(loc='upper left')\n",
    "sns.despine(offset=10)\n",
    "\n",
    "plt.style.use('ggplot')\n",
    "sns.set_style('ticks')\n",
    "plt.rcParams['font.size'] = 12\n",
    "plt.tight_layout()\n",
    "plt.gcf().subplots_adjust(bottom=0.35)\n",
    "# fig.savefig('{}.pdf'.format(fig_name), bbox_inches='tight')"
   ]
  },
  {
   "cell_type": "markdown",
   "metadata": {},
   "source": [
    "## Boxplot for our quantitative variables."
   ]
  },
  {
   "cell_type": "code",
   "execution_count": 40,
   "metadata": {},
   "outputs": [
    {
     "data": {
      "image/png": "[encoded data removed]",
      "text/plain": [
       "<Figure size 864x432 with 2 Axes>"
      ]
     },
     "metadata": {},
     "output_type": "display_data"
    }
   ],
   "source": [
    "fig, ax = plt.subplots(nrows=1, ncols=2, figsize=(12, 6))\n",
    "# The notches represent the confidence interval (CI) around the median.\n",
    "ax[0] = df_final[df_final['trt']==1].boxplot(column=['Age','POST_WEIGHT','PRE_WEIGHT','WEIGHT_DIFF'],notch = True,rot=30,ax=ax[0])\n",
    "ax[1] = df_final[df_final['trt']==0].boxplot(column=['Age','POST_WEIGHT','PRE_WEIGHT','WEIGHT_DIFF'],notch = True,rot=30,ax=ax[1])\n",
    "\n",
    "ax[0].set_title('trt=1')\n",
    "ax[1].set_title('trt=0')\n",
    "sns.despine(offset=10)\n",
    "plt.style.use('ggplot')\n",
    "sns.set_style('ticks')\n",
    "plt.rcParams['font.size'] = 12\n",
    "plt.tight_layout()\n",
    "plt.gcf().subplots_adjust(bottom=0.45)\n",
    "# fig.savefig('{}.pdf'.format(fig_name), bbox_inches='tight')"
   ]
  },
  {
   "cell_type": "markdown",
   "metadata": {},
   "source": [
    "Based on the box plot showed for treatment and control groups, more than 75% of the population had a negative weight difference in treatment group. The standard deviation is very small for control group and the weight differences are very small and very close to zero."
   ]
  },
  {
   "cell_type": "markdown",
   "metadata": {},
   "source": [
    "## Histogram plot of weight difference for treatment and control group "
   ]
  },
  {
   "cell_type": "code",
   "execution_count": 41,
   "metadata": {},
   "outputs": [
    {
     "data": {
      "text/plain": [
       "<matplotlib.legend.Legend at 0x1a1f327ba8>"
      ]
     },
     "execution_count": 41,
     "metadata": {},
     "output_type": "execute_result"
    },
    {
     "data": {
      "image/png": "[encoded data removed]",
      "text/plain": [
       "<Figure size 432x288 with 1 Axes>"
      ]
     },
     "metadata": {},
     "output_type": "display_data"
    }
   ],
   "source": [
    "n, bins, patches = plt.hist(x=df_final[df_final['trt']==1]['WEIGHT_DIFF'], bins='auto', color='k',\n",
    "                            alpha=0.7, rwidth=0.85, label='trt=1')\n",
    "plt.axvline(x=df_final[df_final['trt']==1]['WEIGHT_DIFF'].mean(), color='lime', linestyle='dashed', linewidth=2, label='mean trt=1')\n",
    "\n",
    "n, bins, patches = plt.hist(x=df_final[df_final['trt']==0]['WEIGHT_DIFF'], bins='auto', color='r',\n",
    "                            alpha=0.6, rwidth=1.95, label='trt=0')\n",
    "plt.axvline(x=df_final[df_final['trt']==0]['WEIGHT_DIFF'].mean(), color='k', linestyle='dashed', linewidth=2, label='mean trt=0')\n",
    "\n",
    "sns.despine(offset=10)\n",
    "plt.style.use('ggplot')\n",
    "sns.set_style('ticks')\n",
    "plt.rcParams['font.size'] = 12\n",
    "plt.tight_layout()\n",
    "plt.gcf().subplots_adjust(bottom=0.15)\n",
    "plt.grid(axis='y', alpha=0.75)\n",
    "plt.xlabel('Weight Difference')\n",
    "plt.ylabel('Frequency')\n",
    "plt.legend(loc='upper right')"
   ]
  },
  {
   "cell_type": "markdown",
   "metadata": {},
   "source": [
    "It seems that the population for both treatment and control groups are $\\textbf{normally distributed}$. "
   ]
  },
  {
   "cell_type": "markdown",
   "metadata": {},
   "source": [
    "## Histogram plot of SRH difference for treatment and control group "
   ]
  },
  {
   "cell_type": "code",
   "execution_count": 47,
   "metadata": {},
   "outputs": [
    {
     "data": {
      "text/plain": [
       "Text(6.375, 0.5, 'Frequency')"
      ]
     },
     "execution_count": 47,
     "metadata": {},
     "output_type": "execute_result"
    },
    {
     "data": {
      "image/png": "[encoded data removed]",
      "text/plain": [
       "<Figure size 432x288 with 1 Axes>"
      ]
     },
     "metadata": {},
     "output_type": "display_data"
    }
   ],
   "source": [
    "rects1 = sns.countplot(df_final[df_final['trt']==1]['SRH_DIFF'], color='k',alpha=0.7,label='trt=1')\n",
    "rects2 = sns.countplot(df_final[df_final['trt']==0]['SRH_DIFF'], color='r',alpha=0.3,label='trt=0')\n",
    "\n",
    "for p in rects1.patches:\n",
    "    width, height = p.get_width(), p.get_height()\n",
    "    x, y = p.get_xy() \n",
    "    plt.text(x, y + height - 0.01,'{:.0%}'.format(height/2500))\n",
    "    \n",
    "for p in rects2.patches:\n",
    "    width, height = p.get_width(), p.get_height()\n",
    "    x, y = p.get_xy() \n",
    "    plt.text(x, y + height + 0.01,'{:.0%}'.format(height/2500))\n",
    "\n",
    "\n",
    "plt.ylim([0,1500])\n",
    "sns.despine(offset=10)\n",
    "plt.legend(loc='upper right')\n",
    "\n",
    "plt.style.use('ggplot')\n",
    "sns.set_style('ticks')\n",
    "plt.rcParams['font.size'] = 12\n",
    "plt.tight_layout()\n",
    "plt.gcf().subplots_adjust(bottom=0.15)\n",
    "plt.grid(axis='y', alpha=0.75)\n",
    "plt.xlabel('SRH_DIFF')\n",
    "plt.ylabel('Frequency')"
   ]
  },
  {
   "cell_type": "markdown",
   "metadata": {},
   "source": [
    "Histogram of SRH_DIFF shows the degree of improvement (positive values) and deterioration (negative values) and their percentages for both control and treatment groups. (Zero means there has been no difference in SRH before and after the treatment.)"
   ]
  },
  {
   "cell_type": "code",
   "execution_count": 48,
   "metadata": {},
   "outputs": [
    {
     "data": {
      "image/png": "[encoded data removed]",
      "text/plain": [
       "<Figure size 432x288 with 1 Axes>"
      ]
     },
     "metadata": {},
     "output_type": "display_data"
    }
   ],
   "source": [
    "df = [df_final[df_final['trt']==1]['SRH_DIFF'],df_final[df_final['trt']==0]['SRH_DIFF']]\n",
    "plt.boxplot(df,notch = True)\n",
    "sns.despine(offset=10)\n",
    "plt.style.use('ggplot')\n",
    "sns.set_style('ticks')\n",
    "plt.rcParams['font.size'] = 12\n",
    "plt.tight_layout()\n",
    "plt.ylabel('SRH_DIFF')\n",
    "plt.gcf().subplots_adjust(bottom=0.45)\n",
    "labels = ('trt=1','trt=0')\n",
    "plt.xticks(np.arange(len(labels))+1,labels)\n",
    "plt.show()\n",
    "# fig = ax.get_figure()\n",
    "# fig.savefig('{}.pdf'.format(fig_name), bbox_inches='tight')"
   ]
  },
  {
   "cell_type": "markdown",
   "metadata": {},
   "source": [
    "# Hypothesis Testing: P value, confidence interval and effect size"
   ]
  },
  {
   "cell_type": "markdown",
   "metadata": {},
   "source": [
    "$\\textbf{Null Hypothesis:}$ $H_0$ <br>\n",
    "$\\textbf{Alternative Hypthosis:}$ $H_1$"
   ]
  },
  {
   "cell_type": "markdown",
   "metadata": {},
   "source": [
    "Results of Null Hypothesis Significance Testing (NHST) only inform us of statistical significance without providing any information on the magnitude of the treatment effect. To readers who want to obtain information about the treatment, it is not useful to describe the expected results as “significant”. Effect size is the standardized way of measuring the treatment effect. <br>\n",
    "There are many kinds of the effect sizes. Most prominently, Cohen’s d is one of the acclaimed effect sizes, Pearson’s correlation coefficient r, and odds ratio are also types of effect sizes [1]."
   ]
  },
  {
   "cell_type": "markdown",
   "metadata": {},
   "source": [
    "# Effect Size Using Correlation Test (Control Group)"
   ]
  },
  {
   "cell_type": "code",
   "execution_count": 49,
   "metadata": {},
   "outputs": [],
   "source": [
    "from scipy.stats import spearmanr, pearsonr"
   ]
  },
  {
   "cell_type": "code",
   "execution_count": 50,
   "metadata": {},
   "outputs": [],
   "source": [
    "corr, p = pearsonr(df_final[df_final['trt']==0]['SRH_DIFF'], df_final[df_final['trt']==0]['WEIGHT_DIFF'])"
   ]
  },
  {
   "cell_type": "code",
   "execution_count": 51,
   "metadata": {},
   "outputs": [
    {
     "data": {
      "text/plain": [
       "-0.02334500506419921"
      ]
     },
     "execution_count": 51,
     "metadata": {},
     "output_type": "execute_result"
    }
   ],
   "source": [
    "corr"
   ]
  },
  {
   "cell_type": "code",
   "execution_count": 52,
   "metadata": {},
   "outputs": [
    {
     "data": {
      "text/plain": [
       "0.24328084635268588"
      ]
     },
     "execution_count": 52,
     "metadata": {},
     "output_type": "execute_result"
    }
   ],
   "source": [
    "p"
   ]
  },
  {
   "cell_type": "markdown",
   "metadata": {},
   "source": [
    "## Statistically Significant Correlations "
   ]
  },
  {
   "cell_type": "markdown",
   "metadata": {},
   "source": [
    "$\\textbf{Note}$: the following calculations are in addition to the p-value obtained using spearmanr in scipy.stat library."
   ]
  },
  {
   "cell_type": "markdown",
   "metadata": {},
   "source": [
    "$\\textbf{$H_0$}: \\rho=0$.<br>\n",
    "$\\textbf{$H_1$}: \\rho\\neq0$."
   ]
  },
  {
   "cell_type": "markdown",
   "metadata": {},
   "source": [
    "$t = (r)\\sqrt{\\frac{N-2}{1-r^2}}$"
   ]
  },
  {
   "cell_type": "markdown",
   "metadata": {},
   "source": [
    "Where: r is sample correlation and $\\rho$ is the hypothesized correlation."
   ]
  },
  {
   "cell_type": "code",
   "execution_count": 53,
   "metadata": {},
   "outputs": [],
   "source": [
    "df = 2498 # Degrees of freedom"
   ]
  },
  {
   "cell_type": "code",
   "execution_count": 54,
   "metadata": {},
   "outputs": [],
   "source": [
    "t = abs(corr)*math.sqrt((2500-2)/(1-corr**2))"
   ]
  },
  {
   "cell_type": "code",
   "execution_count": 55,
   "metadata": {},
   "outputs": [
    {
     "data": {
      "text/plain": [
       "1.1671013318801213"
      ]
     },
     "execution_count": 55,
     "metadata": {},
     "output_type": "execute_result"
    }
   ],
   "source": [
    "t"
   ]
  },
  {
   "cell_type": "markdown",
   "metadata": {},
   "source": [
    "To see whether this t value is statistically significant, we must look at the table of t values in Critical Values of The t Distributions. There we can see that, because our degrees of freedom equals 2498, we must look at t values in both the $df=\\infty$ row. Looking at the $df=\\infty$ row, we can see that a t value of 9.46 has a probability of greater than .2 (for a two-tailed test).<br> \n",
    "Therefore, we conclude that our p value is greater than 0.2. If our alpha level is the traditional .05, we would conclude that our correlation coefficient is not statistically significant. We could say that, “We failed to find a significant relationship between WEIGHT_DIFF and SRH_DIFF (r = -0.025, t(2498) = 1.23, p > 0.2) when there is no treatment.”"
   ]
  },
  {
   "cell_type": "markdown",
   "metadata": {},
   "source": [
    "# Effect Size Using Correlation Test (Treatment Group)"
   ]
  },
  {
   "cell_type": "code",
   "execution_count": 56,
   "metadata": {},
   "outputs": [],
   "source": [
    "corr, p = pearsonr(df_final[df_final['trt']==1]['SRH_DIFF'], df_final[df_final['trt']==1]['WEIGHT_DIFF'])"
   ]
  },
  {
   "cell_type": "code",
   "execution_count": 57,
   "metadata": {},
   "outputs": [
    {
     "data": {
      "text/plain": [
       "-0.17445300026677135"
      ]
     },
     "execution_count": 57,
     "metadata": {},
     "output_type": "execute_result"
    }
   ],
   "source": [
    "corr"
   ]
  },
  {
   "cell_type": "code",
   "execution_count": 58,
   "metadata": {},
   "outputs": [
    {
     "data": {
      "text/plain": [
       "1.5533971758053816e-18"
      ]
     },
     "execution_count": 58,
     "metadata": {},
     "output_type": "execute_result"
    }
   ],
   "source": [
    "p"
   ]
  },
  {
   "cell_type": "code",
   "execution_count": 59,
   "metadata": {},
   "outputs": [
    {
     "data": {
      "text/plain": [
       "SpearmanrResult(correlation=-0.1858816097331168, pvalue=7.170243680140726e-21)"
      ]
     },
     "execution_count": 59,
     "metadata": {},
     "output_type": "execute_result"
    }
   ],
   "source": [
    "spearmanr(df_final[df_final['trt']==1]['SRH_DIFF'], df_final[df_final['trt']==1]['WEIGHT_DIFF'])"
   ]
  },
  {
   "cell_type": "markdown",
   "metadata": {},
   "source": [
    "## Statistically Significant Correlations "
   ]
  },
  {
   "cell_type": "markdown",
   "metadata": {},
   "source": [
    "$\\textbf{Note}$: the following calculations are in addition to the p-value obtained using spearmanr in scipy.stat library."
   ]
  },
  {
   "cell_type": "markdown",
   "metadata": {},
   "source": [
    "$\\textbf{$H_0$}: \\rho=0$.<br>\n",
    "$\\textbf{$H_1$}: \\rho\\neq0$."
   ]
  },
  {
   "cell_type": "markdown",
   "metadata": {},
   "source": [
    "$t = (r)\\sqrt{\\frac{N-2}{1-r^2}}$"
   ]
  },
  {
   "cell_type": "markdown",
   "metadata": {},
   "source": [
    "Where: r is sample correlation and $\\rho$ is the hypothesized correlation."
   ]
  },
  {
   "cell_type": "code",
   "execution_count": 60,
   "metadata": {},
   "outputs": [],
   "source": [
    "t = abs(corr)*math.sqrt((2500-2)/(1-corr**2))"
   ]
  },
  {
   "cell_type": "code",
   "execution_count": 61,
   "metadata": {},
   "outputs": [],
   "source": [
    "df = 2498 # Degrees of freedom"
   ]
  },
  {
   "cell_type": "code",
   "execution_count": 62,
   "metadata": {},
   "outputs": [
    {
     "data": {
      "text/plain": [
       "8.85494641390509"
      ]
     },
     "execution_count": 62,
     "metadata": {},
     "output_type": "execute_result"
    }
   ],
   "source": [
    "t"
   ]
  },
  {
   "cell_type": "markdown",
   "metadata": {},
   "source": [
    "To see whether this t value is statistically significant, we must look at the table of t values in Critical Values of The t Distributions. There we can see that, because our degrees of freedom equals 2498, we must look at t values in both the $df=\\infty$ row. Looking at the $df=\\infty$ row, we can see that a t value of 9.46 has a probability of much less than 0.001 (for a two-tailed test).<br> \n",
    "Therefore, we conclude that our p value is less than 0.001. If our alpha level is the traditional 0.05, we would conclude that our correlation coefficient is statistically significant. We could say that, “We found a significant relationship between between WEIGHT_DIFF and SRH_DIFF\n",
    "(r = -0.186, t(2498) = 9.46, p << 0.001) when there is treatment.”"
   ]
  },
  {
   "cell_type": "markdown",
   "metadata": {},
   "source": [
    "# Effect Size Using Cohen's d"
   ]
  },
  {
   "cell_type": "markdown",
   "metadata": {},
   "source": [
    "## Weight Difference"
   ]
  },
  {
   "cell_type": "markdown",
   "metadata": {},
   "source": [
    "### Effect Size "
   ]
  },
  {
   "cell_type": "code",
   "execution_count": 69,
   "metadata": {},
   "outputs": [],
   "source": [
    "from numpy import std, mean, sqrt\n",
    "def cohen_d(x,y):\n",
    "    nx = len(x)\n",
    "    ny = len(y)\n",
    "    dof = nx + ny - 2\n",
    "    return (mean(x) - mean(y)) / sqrt((std(x, ddof=1) ** 2 + std(y, ddof=1) ** 2) / 2.0) \n",
    "    # numpy's standard deviation default behaviour is to divide by n, whereas with ddof=1 it will divide by n-1."
   ]
  },
  {
   "cell_type": "code",
   "execution_count": 70,
   "metadata": {},
   "outputs": [],
   "source": [
    "d = cohen_d(df_final[df_final['trt']==1]['WEIGHT_DIFF'],df_final[df_final['trt']==0]['WEIGHT_DIFF'])"
   ]
  },
  {
   "cell_type": "code",
   "execution_count": 71,
   "metadata": {},
   "outputs": [
    {
     "data": {
      "text/plain": [
       "-1.2770673016757919"
      ]
     },
     "execution_count": 71,
     "metadata": {},
     "output_type": "execute_result"
    }
   ],
   "source": [
    "d"
   ]
  },
  {
   "cell_type": "markdown",
   "metadata": {},
   "source": [
    "The larger the Cohen's d value, the further sample means are from one another in standard deviation units. <br> \n",
    "Here, the effect size is very LARGE. <br>\n",
    "This means that about 88.5% samples of the treatment group would be below the mean of control group. \n",
    "Cohen's d is for the comparison of two independent groups from a continuous variable."
   ]
  },
  {
   "cell_type": "markdown",
   "metadata": {},
   "source": [
    "### CI of effect size "
   ]
  },
  {
   "cell_type": "markdown",
   "metadata": {},
   "source": [
    "Confidence intervals may be applied to quantify the error imposed on an effect size. <br>\n",
    "Hedge and Olkin [2] provided a formula for estimating CI for effect size, subject to the condition of normal distribution."
   ]
  },
  {
   "cell_type": "markdown",
   "metadata": {},
   "source": [
    "$\\sigma(d) = \\sqrt{\\frac{N_1+N_2}{N_1\\times N_2}+\\frac{d^2}{2(N_1+N_2)}}$"
   ]
  },
  {
   "cell_type": "markdown",
   "metadata": {},
   "source": [
    "95% CI for Cohen’s d: $[d − 1.96 \\times \\sigma(d), d + 1.96 \\times \\sigma(d)]$"
   ]
  },
  {
   "cell_type": "code",
   "execution_count": 72,
   "metadata": {},
   "outputs": [],
   "source": [
    "def sigma_d(x,y,d):\n",
    "    nx = len(x)\n",
    "    ny = len(y)\n",
    "    return sqrt((nx+ny)/(nx*ny)+d**2/(2*(nx+ny))) "
   ]
  },
  {
   "cell_type": "code",
   "execution_count": 73,
   "metadata": {},
   "outputs": [],
   "source": [
    "sigma = sigma_d(df_final[df_final['trt']==1]['WEIGHT_DIFF'],df_final[df_final['trt']==0]['WEIGHT_DIFF'],d)"
   ]
  },
  {
   "cell_type": "markdown",
   "metadata": {},
   "source": [
    "#### 95% CI for Cohen’s d"
   ]
  },
  {
   "cell_type": "code",
   "execution_count": 74,
   "metadata": {},
   "outputs": [
    {
     "data": {
      "text/plain": [
       "[-1.3378933395794603, -1.2162412637721234]"
      ]
     },
     "execution_count": 74,
     "metadata": {},
     "output_type": "execute_result"
    }
   ],
   "source": [
    "[d-1.96*sigma,d+1.96*sigma]"
   ]
  },
  {
   "cell_type": "markdown",
   "metadata": {},
   "source": [
    "we need to express the degree of uncertainty present in the estimation of effect size, that is, the bigger the trial, the more precise the point estimate will be. We do this uncertainty estimation using 95% CI. <br>\n",
    "These relatively tight CIs, provides strong evidence that the treatment causes weight loss. "
   ]
  },
  {
   "cell_type": "markdown",
   "metadata": {},
   "source": [
    "### Statistical Power"
   ]
  },
  {
   "cell_type": "markdown",
   "metadata": {},
   "source": [
    "statistical power is the probability that a test will correctly reject a false null hypothesis. Statistical power has relevance only when the NULL is FALSE. <br>\n",
    "The higher the statistical power for a given experiment, the lower the probability of making a Type II (false negative) error. That is the higher the probability of detecting an effect when there is an effect [3]. "
   ]
  },
  {
   "cell_type": "code",
   "execution_count": 75,
   "metadata": {},
   "outputs": [
    {
     "name": "stdout",
     "output_type": "stream",
     "text": [
      "Sample Size: 21.047\n"
     ]
    }
   ],
   "source": [
    "# estimate sample size via power analysis\n",
    "from statsmodels.stats.power import TTestIndPower\n",
    "# parameters for power analysis\n",
    "effect = 0.885\n",
    "alpha = 0.05\n",
    "power = 0.8\n",
    "# perform power analysis\n",
    "analysis = TTestIndPower()\n",
    "result = analysis.solve_power(effect, power=power, nobs1=None, ratio=1.0, alpha=alpha)\n",
    "print('Sample Size: %.3f' % result)"
   ]
  },
  {
   "cell_type": "markdown",
   "metadata": {},
   "source": [
    "Running the example calculates and prints the estimated number of samples for the experiment\n",
    "as 21. This would be a suggested minimum number of samples required to see an effect of\n",
    "the desired size."
   ]
  },
  {
   "cell_type": "code",
   "execution_count": 76,
   "metadata": {},
   "outputs": [
    {
     "data": {
      "image/png": "[encoded data removed]",
      "text/plain": [
       "<Figure size 432x288 with 1 Axes>"
      ]
     },
     "metadata": {},
     "output_type": "display_data"
    }
   ],
   "source": [
    "# parameters for power analysis\n",
    "effect_size = np.array([0.5,0.885])\n",
    "sample_sizes = np.array(range(15, 100))\n",
    "# calculate power curves from multiple power analyses\n",
    "analysis = TTestIndPower()\n",
    "analysis.plot_power(dep_var='nobs', nobs=sample_sizes, effect_size=effect_size)\n",
    "plt.show()"
   ]
  },
  {
   "cell_type": "markdown",
   "metadata": {},
   "source": [
    "## Effect Size Using Odd Ratio "
   ]
  },
  {
   "cell_type": "markdown",
   "metadata": {},
   "source": [
    "## SRH Difference "
   ]
  },
  {
   "cell_type": "markdown",
   "metadata": {},
   "source": [
    "### Contingency Table"
   ]
  },
  {
   "cell_type": "markdown",
   "metadata": {},
   "source": [
    "Numeber of people who received treatment and had a POSITIVE evaluation of their health: "
   ]
  },
  {
   "cell_type": "code",
   "execution_count": 77,
   "metadata": {},
   "outputs": [
    {
     "data": {
      "text/plain": [
       "906"
      ]
     },
     "execution_count": 77,
     "metadata": {},
     "output_type": "execute_result"
    }
   ],
   "source": [
    "len(np.where(df_final[df_final['trt']==1]['SRH_DIFF']>0)[0])"
   ]
  },
  {
   "cell_type": "markdown",
   "metadata": {},
   "source": [
    "Numeber of people who received treatment and had a NEGATIVE evaluation of their health: "
   ]
  },
  {
   "cell_type": "code",
   "execution_count": 78,
   "metadata": {},
   "outputs": [
    {
     "data": {
      "text/plain": [
       "283"
      ]
     },
     "execution_count": 78,
     "metadata": {},
     "output_type": "execute_result"
    }
   ],
   "source": [
    "len(np.where(df_final[df_final['trt']==1]['SRH_DIFF']<0)[0])"
   ]
  },
  {
   "cell_type": "markdown",
   "metadata": {},
   "source": [
    "Numeber of people who DID NOT receive treatment and had a POSITIVE evaluation of their health: "
   ]
  },
  {
   "cell_type": "code",
   "execution_count": 79,
   "metadata": {},
   "outputs": [
    {
     "data": {
      "text/plain": [
       "515"
      ]
     },
     "execution_count": 79,
     "metadata": {},
     "output_type": "execute_result"
    }
   ],
   "source": [
    "len(np.where(df_final[df_final['trt']==0]['SRH_DIFF']>0)[0])"
   ]
  },
  {
   "cell_type": "markdown",
   "metadata": {},
   "source": [
    "Numeber of people who DID NOT receive treatment and had a NEGATIVE evaluation of their health: "
   ]
  },
  {
   "cell_type": "code",
   "execution_count": 80,
   "metadata": {},
   "outputs": [
    {
     "data": {
      "text/plain": [
       "528"
      ]
     },
     "execution_count": 80,
     "metadata": {},
     "output_type": "execute_result"
    }
   ],
   "source": [
    "len(np.where(df_final[df_final['trt']==0]['SRH_DIFF']<0)[0])"
   ]
  },
  {
   "cell_type": "code",
   "execution_count": 81,
   "metadata": {},
   "outputs": [],
   "source": [
    "Contingency_table = pd.DataFrame({'Event(+)':[906,515],'Event(-)':[283,528]},index=['Treatment','Control'])"
   ]
  },
  {
   "cell_type": "code",
   "execution_count": 82,
   "metadata": {},
   "outputs": [
    {
     "data": {
      "text/html": [
       "<div>\n",
       "<style scoped>\n",
       "    .dataframe tbody tr th:only-of-type {\n",
       "        vertical-align: middle;\n",
       "    }\n",
       "\n",
       "    .dataframe tbody tr th {\n",
       "        vertical-align: top;\n",
       "    }\n",
       "\n",
       "    .dataframe thead th {\n",
       "        text-align: right;\n",
       "    }\n",
       "</style>\n",
       "<table border=\"1\" class=\"dataframe\">\n",
       "  <thead>\n",
       "    <tr style=\"text-align: right;\">\n",
       "      <th></th>\n",
       "      <th>Event(+)</th>\n",
       "      <th>Event(-)</th>\n",
       "    </tr>\n",
       "  </thead>\n",
       "  <tbody>\n",
       "    <tr>\n",
       "      <th>Treatment</th>\n",
       "      <td>906</td>\n",
       "      <td>283</td>\n",
       "    </tr>\n",
       "    <tr>\n",
       "      <th>Control</th>\n",
       "      <td>515</td>\n",
       "      <td>528</td>\n",
       "    </tr>\n",
       "  </tbody>\n",
       "</table>\n",
       "</div>"
      ],
      "text/plain": [
       "           Event(+)  Event(-)\n",
       "Treatment       906       283\n",
       "Control         515       528"
      ]
     },
     "execution_count": 82,
     "metadata": {},
     "output_type": "execute_result"
    }
   ],
   "source": [
    "Contingency_table"
   ]
  },
  {
   "cell_type": "markdown",
   "metadata": {},
   "source": [
    "### Effect Size for Contingency Table: Odd Ratio (OR)"
   ]
  },
  {
   "cell_type": "markdown",
   "metadata": {},
   "source": [
    "$OR = \\frac{a/b}{c/d}$"
   ]
  },
  {
   "cell_type": "code",
   "execution_count": 83,
   "metadata": {},
   "outputs": [],
   "source": [
    "OR = (906/283)/(515/528)"
   ]
  },
  {
   "cell_type": "code",
   "execution_count": 84,
   "metadata": {},
   "outputs": [
    {
     "data": {
      "text/plain": [
       "3.282225805344952"
      ]
     },
     "execution_count": 84,
     "metadata": {},
     "output_type": "execute_result"
    }
   ],
   "source": [
    "OR"
   ]
  },
  {
   "cell_type": "markdown",
   "metadata": {},
   "source": [
    "$se(log[OR]) = \\sqrt{\\frac{1}{a}+\\frac{1}{b}+\\frac{1}{c}+\\frac{1}{d}}$"
   ]
  },
  {
   "cell_type": "markdown",
   "metadata": {},
   "source": [
    "$EF = e^{1.96\\times se(log[OR])}$"
   ]
  },
  {
   "cell_type": "code",
   "execution_count": 85,
   "metadata": {},
   "outputs": [],
   "source": [
    "EF = math.exp(1.96*sqrt(1./906+1./283+1./515+1./528))"
   ]
  },
  {
   "cell_type": "code",
   "execution_count": 86,
   "metadata": {},
   "outputs": [
    {
     "data": {
      "text/plain": [
       "1.1977154324752266"
      ]
     },
     "execution_count": 86,
     "metadata": {},
     "output_type": "execute_result"
    }
   ],
   "source": [
    "EF"
   ]
  },
  {
   "cell_type": "markdown",
   "metadata": {},
   "source": [
    "#### 95% CI for OR Effect Size:"
   ]
  },
  {
   "cell_type": "markdown",
   "metadata": {},
   "source": [
    "95% CI of OR: $[OR.EF^{–1}, OR.EF^{+1}]$"
   ]
  },
  {
   "cell_type": "code",
   "execution_count": 87,
   "metadata": {},
   "outputs": [
    {
     "data": {
      "text/plain": [
       "[2.7404053720522144, 3.9311724999300783]"
      ]
     },
     "execution_count": 87,
     "metadata": {},
     "output_type": "execute_result"
    }
   ],
   "source": [
    "[OR*EF**(-1),OR*EF]"
   ]
  },
  {
   "cell_type": "markdown",
   "metadata": {},
   "source": [
    "Again, here, the effect size is very LARGE. <br>\n",
    "These relatively tight CIs, provides strong evidence that the treatment is effective."
   ]
  },
  {
   "cell_type": "markdown",
   "metadata": {},
   "source": [
    "# What-If Scenarios (brief responses)--"
   ]
  },
  {
   "cell_type": "markdown",
   "metadata": {},
   "source": [
    "## What if the investigator wanted to evaluate 16 additional outcomes (in addition to weight and SRH)? She is curious to see if the exercise regime has an impact on body fat %, mental well-being, bone density, etc... She intends to publish the results in a high-impact journal. How would you respond to this?  "
   ]
  },
  {
   "cell_type": "markdown",
   "metadata": {},
   "source": [
    "She has to perform the measurments for all the other 16 parameters that she wants to involve in outcomes. Also, in this type of study, we cannot randomize individuals to treatment and control group. Furthermore, other covariates could be related to both the main covariate and the response [4]."
   ]
  },
  {
   "cell_type": "markdown",
   "metadata": {},
   "source": [
    "## What if the two groups (treatment and control) were not randomized? How might you evaluate the intervention now? What additional information might you require, and which methods could you use? What would be your limitations? "
   ]
  },
  {
   "cell_type": "markdown",
   "metadata": {},
   "source": [
    "It’s well known that randomized trials are some of the most efficient ways to make causal inferences and to determine how much something (an intervention) differs from the comparator (some sort of control). Random assignment helps make these goals easier by minimizing selection bias (skewing of results) and making the distribution of prognostic factors between groups random (not balanced).<br>\n",
    "In designing a randomized study, we want to be able to detect a clinically important effect on the new treatment versus the control group. Patients are randomized to one of the two treatments; sample size calculations for such a study can be done by using standard theory with the normal distribution and are found in most introductory statistical text-books [4].<br>\n",
    "In some cases, randomization is not feasible due to physical constraints, ethical issues or resource limitations. This leads to observational  studies, whereby due to the presence of confounding variables, it is not appropriate to apply univariable comparison tests due to potential bias. The relationship between the main covariate and other covariates needs to be taken into account when calculating the necessary sample size for detecting a treatment effect. Consequently, sample size calculations in such studies are more complex. In some cases, analyses are based on large clinical(or administrative) registries. These can be very large, meaning that there is little concern about power. However, it is then important to consider whether the adjusted effect size is ‘clinically’ significant, regardless of ‘statistical’ significance. Another issue frequently encountered with non-randomized studies, particularly observational data studies, is the presence of missing data. In some cases, this can be substantial.<br> \n",
    "A standard approach for adjusting for confounding is multi-variable regression. In such models, we are typically interested in a single covariate (e.g. a binary treatment effect) and will include other covariates (i.e. the confounders) in the regression model. For multivariable  linear regression, one approach is to apply a correction factor to the approximate formula [5]. "
   ]
  },
  {
   "cell_type": "markdown",
   "metadata": {},
   "source": [
    "# References"
   ]
  },
  {
   "cell_type": "markdown",
   "metadata": {},
   "source": [
    "[1] Lee, D.K., Alternatives to P value: confidence interval and effect size. Korean Journal of Anesthesiology, VOL. 69, NO. 6, 2016.<br>\n",
    "[2] Hedge LV, Olkin I. Statistical methods for meta-analysis. Orlando, Academic Press Inc. 2014, p 86.<br>\n",
    "[3] Brownlee J, Statistical Methods for Machine Learning Discover how to Transform Data into Knowledge with Python 2019.<br>\n",
    "[4] Lipsitz  S,  Parzen  M.  Sample  size  calculations  for  non-randomized  stud-ies. Statistician 1995;44:81–90.<br>\n",
    "[5] Hickey GL, Grant SW, Dunning J, Siepe M. Statistical primer: sample size and power calculations—why, when and how? Eur J Cardiothorac Surg 2018;54:4–9."
   ]
  }
 ],
 "metadata": {
  "kernelspec": {
   "display_name": "Python 3",
   "language": "python",
   "name": "python3"
  },
  "language_info": {
   "codemirror_mode": {
    "name": "ipython",
    "version": 3
   },
   "file_extension": ".py",
   "mimetype": "text/x-python",
   "name": "python",
   "nbconvert_exporter": "python",
   "pygments_lexer": "ipython3",
   "version": "3.5.5"
  },
  "toc-autonumbering": true,
  "toc-showcode": false,
  "toc-showmarkdowntxt": false,
  "toc-showtags": false
 },
 "nbformat": 4,
 "nbformat_minor": 2
}

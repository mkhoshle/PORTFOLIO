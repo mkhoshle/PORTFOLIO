{
 "cells": [
  {
   "cell_type": "code",
   "execution_count": 1,
   "metadata": {},
   "outputs": [
    {
     "name": "stderr",
     "output_type": "stream",
     "text": [
      "/home/mkhoshle/miniconda3/envs/research/lib/python3.6/site-packages/seaborn/apionly.py:6: UserWarning: As seaborn no longer sets a default style on import, the seaborn.apionly module is deprecated. It will be removed in a future version.\n",
      "  warnings.warn(msg, UserWarning)\n"
     ]
    }
   ],
   "source": [
    "%matplotlib inline\n",
    "%load_ext autoreload\n",
    "%autoreload 2\n",
    "from __future__ import print_function, division\n",
    "import numpy as np\n",
    "import matplotlib\n",
    "import matplotlib.pyplot as plt\n",
    "from matplotlib.legend_handler import HandlerLine2D\n",
    "import pandas as pd\n",
    "import seaborn.apionly as sns\n",
    "import matplotlib.ticker as ticker\n",
    "import math\n",
    "from matplotlib.ticker import MultipleLocator, FormatStrFormatter\n",
    "import random as rand\n",
    "# from sys import maxint\n",
    "import scipy.stats as ss\n",
    "import itertools\n",
    "from itertools import islice, takewhile\n",
    "import operator\n",
    "from scipy.stats import t, cauchy, norm\n",
    "from functools import reduce\n",
    "import scipy"
   ]
  },
  {
   "cell_type": "markdown",
   "metadata": {},
   "source": [
    "## Simulations"
   ]
  },
  {
   "cell_type": "code",
   "execution_count": 2,
   "metadata": {},
   "outputs": [],
   "source": [
    "def sim(n_initial,n,rates):\n",
    "    nn_A = 1;nn_photon = 0;nn_D= 0\n",
    "    chk = True;j = 0;state = 0\n",
    "\n",
    "    # Time necessary for activating the fluorephore\n",
    "    t_activation = -math.log(np.random.uniform())*(1./rates['ka'])          #[s]\n",
    "    t = t_activation                                                        #[s]\n",
    "    t_photon_back = -math.log(np.random.uniform())*(1./rates['miu_back'])   #[s]\n",
    "    t0 = t + t_photon_back                                                  #[s]\n",
    "    nn_A = nn_A+1\n",
    "    \n",
    "    n['state'].append(1)\n",
    "    n['time'].append(t)\n",
    "    n['n_photon'].append(1) \n",
    "    n_initial['n_A'] = 1.0\n",
    "    j = j+1\n",
    "    \n",
    "    C_miu = [rates['miu'],rates['kd'],rates['kr'],rates['kb']]                          # Reaction Rate \n",
    "    h_miu = [n_initial['n_A'], n_initial['n_A'],n_initial['n_D'], n_initial['n_A']]     # Number of reactants\n",
    "    while (chk==True):\n",
    "#         print(j)\n",
    "        i_photon = 0\n",
    "        a_miu = [a*b for a,b in zip(C_miu,h_miu)] # Rate of exponential distribution       \n",
    "        a_0 = sum(a_miu)\n",
    "\n",
    "        r1 = np.random.rand()    \n",
    "        r2 = np.random.rand()\n",
    "\n",
    "        Tau = (1./a_0)*math.log(1.0/r1)\n",
    "        t = t+Tau\n",
    "        amu = r2*a_0\n",
    "\n",
    "        if amu<sum(a_miu[:1]):\n",
    "            nn_photon = nn_photon+1\n",
    "            n['state'].append(1)\n",
    "            n['n_photon'].append(1)\n",
    "        elif amu<sum(a_miu[:2]):\n",
    "            nn_A = nn_A-1\n",
    "            nn_D = nn_D+1\n",
    "            n['state'].append(2)\n",
    "        elif amu<sum(a_miu[:3]):\n",
    "            nn_A = nn_A+1\n",
    "            nn_D = nn_D-1\n",
    "            n['state'].append(1)\n",
    "        elif amu<sum(a_miu[:4]):\n",
    "            n['state'].append(3) \n",
    "            chk = False          # Particle is photobleached \n",
    "            \n",
    "        # Number of Pairs of reacting molecules\n",
    "        h_miu = [nn_A, nn_A, nn_D, nn_A]\n",
    "        j = j+1\n",
    "        \n",
    "        n['time'].append(t)\n",
    "        n['n_photon'].append(i_photon) \n",
    "\n",
    "    return n, t"
   ]
  },
  {
   "cell_type": "code",
   "execution_count": 26,
   "metadata": {},
   "outputs": [],
   "source": [
    "def background_emission(rates,t_max):\n",
    "    # Effect of Background Photons\n",
    "    t0 = 0 \n",
    "    n = [] \n",
    "    while (t0<t_max):\n",
    "        t_photon_back = -math.log(np.random.uniform())*(1./rates['miu_back'])\n",
    "        t0 = t0 + t_photon_back\n",
    "        n.append(t0)\n",
    "        \n",
    "    return pd.DataFrame(n,columns=['time_b'])"
   ]
  },
  {
   "cell_type": "code",
   "execution_count": 27,
   "metadata": {
    "scrolled": false
   },
   "outputs": [
    {
     "name": "stdout",
     "output_type": "stream",
     "text": [
      "0\n",
      "1\n",
      "2\n",
      "3\n",
      "4\n",
      "5\n",
      "6\n",
      "7\n",
      "8\n",
      "9\n",
      "10\n",
      "11\n",
      "12\n",
      "13\n",
      "14\n",
      "189.6696814947859\n"
     ]
    }
   ],
   "source": [
    "data = []\n",
    "len_time = []\n",
    "N_particles = 15\n",
    "for i in range(N_particles):\n",
    "    print(i)\n",
    "    # The states of our system are: {I: 0, A:1, D:2, B:3, BE:4}\n",
    "    n_initial = {'n_A':0,'n_photon':0,'n_D':0} \n",
    "    n = {'state':[0],'time':[0.0],'n_photon':[0]}    \n",
    "    rates = {'ka':0.5,'miu':1e+5,'kd':10.0,'kr':0.1,'kb':1.0,'miu_back':1e+3}   # [Hz(photons/s)]\n",
    "    results = sim(n_initial,n,rates)\n",
    "    data.append(results[0])\n",
    "    len_time.append(results[1])\n",
    "\n",
    "t_max = max(len_time)   # Time that last particles photobleaches    \n",
    "print(t_max)\n",
    "\n",
    "BE = background_emission(rates,t_max)"
   ]
  },
  {
   "cell_type": "code",
   "execution_count": 28,
   "metadata": {},
   "outputs": [],
   "source": [
    "data1 = [pd.DataFrame(dict([(k,pd.Series(v)) for k,v in data[i].items()])) for i in range(len(data))]"
   ]
  },
  {
   "cell_type": "code",
   "execution_count": 31,
   "metadata": {
    "scrolled": true
   },
   "outputs": [],
   "source": [
    "df = data1[8]"
   ]
  },
  {
   "cell_type": "markdown",
   "metadata": {},
   "source": [
    "### Postprocessing"
   ]
  },
  {
   "cell_type": "code",
   "execution_count": 61,
   "metadata": {},
   "outputs": [],
   "source": [
    "def plot_state(df):\n",
    "    fig = plt.figure(figsize=(4,4)) \n",
    "    plt.style.use('ggplot')\n",
    "    sns.set_style('ticks')\n",
    "    plt.rcParams['font.size'] = 12\n",
    "    plt.step(df['time'],df['state'])\n",
    "    plt.ylabel('state')\n",
    "    plt.xlabel('Time(s)')\n",
    "    plt.tight_layout()\n",
    "    sns.despine(offset=10)\n",
    "    return None"
   ]
  },
  {
   "cell_type": "code",
   "execution_count": 62,
   "metadata": {},
   "outputs": [
    {
     "data": {
      "image/png": "[encoded data removed]",
      "text/plain": [
       "<Figure size 288x288 with 1 Axes>"
      ]
     },
     "metadata": {},
     "output_type": "display_data"
    }
   ],
   "source": [
    "plot_state(df)"
   ]
  },
  {
   "cell_type": "code",
   "execution_count": 72,
   "metadata": {},
   "outputs": [],
   "source": [
    "def photon_emission(df):\n",
    "    fig = plt.figure(figsize=(8,4)) \n",
    "    plt.style.use('ggplot')\n",
    "    sns.set_style('ticks')\n",
    "    plt.rcParams['font.size'] = 12\n",
    "\n",
    "    dff = pd.concat([df[['time','n_photon']],BE], axis=0, sort=False)\n",
    "    dff['t'] = dff[['time','time_b']].fillna(0).sum(axis=1)\n",
    "    dff['n_photon'] = dff['n_photon'].fillna(0)\n",
    "    dff = dff.sort_values(by='t')\n",
    "    dff.index = range(len(df['time'])+len(BE))\n",
    "    dff['photon_b'] = np.where(dff['time_b']==dff['t'],1,0)\n",
    "    dff['photon_tot'] =  dff['n_photon']+dff['photon_b']\n",
    "\n",
    "    ax = fig.add_subplot(1,2,1)\n",
    "    plt.plot(dff['t'],dff['photon_b'],'bo',label='Background Emission')\n",
    "    plt.plot(dff['t'],dff['n_photon'],'ro',label='Photon Emission')\n",
    "    plt.legend(['Background Emission','Photon Emission'])\n",
    "    plt.ylabel('state')\n",
    "    plt.xlabel('Time(s)')\n",
    "    plt.tight_layout()\n",
    "    sns.despine(offset=10)\n",
    "\n",
    "    ax = fig.add_subplot(1,2,2)\n",
    "    plt.plot(dff['t'],dff['photon_tot'],'bo',label='Total Emission')\n",
    "    plt.ylabel('state')\n",
    "    plt.xlabel('Time(s)')\n",
    "    plt.tight_layout()\n",
    "    sns.despine(offset=10)\n",
    "    return None"
   ]
  },
  {
   "cell_type": "code",
   "execution_count": 73,
   "metadata": {},
   "outputs": [
    {
     "data": {
      "image/png": "[encoded data removed]",
      "text/plain": [
       "<Figure size 576x288 with 2 Axes>"
      ]
     },
     "metadata": {},
     "output_type": "display_data"
    }
   ],
   "source": [
    "photon_emission(df)"
   ]
  },
  {
   "cell_type": "markdown",
   "metadata": {},
   "source": [
    "### Inter-arrivel Time"
   ]
  },
  {
   "cell_type": "code",
   "execution_count": 85,
   "metadata": {},
   "outputs": [],
   "source": [
    "def Interarrivel_time(df):\n",
    "    fig = plt.figure(figsize=(4,4)) \n",
    "    plt.style.use('ggplot')\n",
    "    sns.set_style('ticks')\n",
    "    plt.rcParams['font.size'] = 12   \n",
    "    switches = []\n",
    "    for i in range(len(df)-1):\n",
    "        if df['n_photon'][i+1]!=df['n_photon'][i]:\n",
    "            switches.append(df['time'][i+1])\n",
    "    dt = [switches[i+1]-switches[i] for i in range(len(switches)-1)]\n",
    "    n, bins, patches = plt.hist(dt, 10, facecolor='blue')\n",
    "    plt.ylabel('#Count(Photon)')\n",
    "    plt.xlabel('Interarrivel Time(s)')\n",
    "    plt.tight_layout()\n",
    "    sns.despine(offset=10)\n",
    "    return"
   ]
  },
  {
   "cell_type": "code",
   "execution_count": 86,
   "metadata": {},
   "outputs": [
    {
     "data": {
      "image/png": "[encoded data removed]",
      "text/plain": [
       "<Figure size 288x288 with 1 Axes>"
      ]
     },
     "metadata": {},
     "output_type": "display_data"
    }
   ],
   "source": [
    "Interarrivel_time(df)"
   ]
  },
  {
   "cell_type": "code",
   "execution_count": null,
   "metadata": {},
   "outputs": [],
   "source": []
  }
 ],
 "metadata": {
  "kernelspec": {
   "display_name": "Python 3",
   "language": "python",
   "name": "python3"
  },
  "language_info": {
   "codemirror_mode": {
    "name": "ipython",
    "version": 3
   },
   "file_extension": ".py",
   "mimetype": "text/x-python",
   "name": "python",
   "nbconvert_exporter": "python",
   "pygments_lexer": "ipython3",
   "version": "3.5.5"
  }
 },
 "nbformat": 4,
 "nbformat_minor": 2
}

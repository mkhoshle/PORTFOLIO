{
 "cells": [
  {
   "cell_type": "code",
   "execution_count": 2,
   "metadata": {},
   "outputs": [
    {
     "name": "stdout",
     "output_type": "stream",
     "text": [
      "The line_profiler extension is already loaded. To reload it, use:\n",
      "  %reload_ext line_profiler\n"
     ]
    }
   ],
   "source": [
    "%matplotlib inline\n",
    "%load_ext line_profiler\n",
    "import numpy as np\n",
    "import pandas as pd\n",
    "import math\n",
    "import scipy\n",
    "import scipy.stats as ss\n",
    "import matplotlib\n",
    "import matplotlib.pyplot as plt\n",
    "from matplotlib.legend_handler import HandlerLine2D\n",
    "import matplotlib.animation as animation\n",
    "import matplotlib.ticker as ticker\n",
    "from matplotlib.ticker import MultipleLocator, FormatStrFormatter\n",
    "from matplotlib import rc\n",
    "from matplotlib.patches import Rectangle\n",
    "import seaborn.apionly as sns\n",
    "from IPython.display import HTML\n",
    "import os, glob, sys\n",
    "import warnings\n",
    "import operator\n",
    "import functools\n",
    "from scipy.special import binom\n",
    "warnings.simplefilter('always')"
   ]
  },
  {
   "cell_type": "code",
   "execution_count": 3,
   "metadata": {},
   "outputs": [],
   "source": [
    "B = 15"
   ]
  },
  {
   "cell_type": "code",
   "execution_count": 4,
   "metadata": {},
   "outputs": [],
   "source": [
    "# num = 16\n",
    "# scores = [[int(j==0 and i>0) for i in range(num)] for j in range(num)]\n",
    "# max_part = num-1\n",
    "# calculated = [1]\n",
    "\n",
    "# def get_combinations(n, x = max_part):\n",
    "#     for i in range(calculated[0], n+1):\n",
    "#         for j in range(1, x+1):\n",
    "#             if (i-j<0):\n",
    "#                 scores[i][j] = scores[i][j-1]\n",
    "#                 continue\n",
    "#             scores[i][j] = scores[i][j-1] + scores[i-j][j];\n",
    "#     calculated[0] = n\n",
    "#     return scores[n][:]"
   ]
  },
  {
   "cell_type": "code",
   "execution_count": 5,
   "metadata": {},
   "outputs": [],
   "source": [
    "# pi = get_combinations(15)"
   ]
  },
  {
   "cell_type": "code",
   "execution_count": 6,
   "metadata": {},
   "outputs": [],
   "source": [
    "# N_partitions = [pi[i]-pi[i-1] for i in range(1,len(pi))]"
   ]
  },
  {
   "cell_type": "code",
   "execution_count": 7,
   "metadata": {},
   "outputs": [],
   "source": [
    "# Most Efficient Algorithm for calculating Partition Function given in the following website:\n",
    "# http://jeromekelleher.net/generating-integer-partitions.html\n",
    "# Notes can be found here: https://www.whitman.edu/mathematics/cgt_online/book/section03.03.html\n",
    "def accel_asc(n):\n",
    "    a = [0 for i in range(n + 1)]\n",
    "    k = 1\n",
    "    y = n - 1\n",
    "    while k != 0:\n",
    "        x = a[k - 1] + 1\n",
    "        k -= 1\n",
    "        while 2 * x <= y:\n",
    "            a[k] = x\n",
    "            y -= x\n",
    "            k += 1\n",
    "        l = k + 1\n",
    "        while x <= y:\n",
    "            a[k] = x\n",
    "            a[l] = y\n",
    "            yield a[:k + 2]\n",
    "            x += 1\n",
    "            y -= 1\n",
    "        a[k] = x + y\n",
    "        y = x + y - 1\n",
    "        yield a[:k + 1]"
   ]
  },
  {
   "cell_type": "code",
   "execution_count": 8,
   "metadata": {},
   "outputs": [],
   "source": [
    "partitions = []\n",
    "for x in accel_asc(B):\n",
    "    partitions.append(x)"
   ]
  },
  {
   "cell_type": "code",
   "execution_count": 9,
   "metadata": {},
   "outputs": [],
   "source": [
    "partitions = sorted(partitions, key=len)"
   ]
  },
  {
   "cell_type": "code",
   "execution_count": 10,
   "metadata": {},
   "outputs": [
    {
     "data": {
      "text/plain": [
       "[[15],\n",
       " [1, 14],\n",
       " [2, 13],\n",
       " [3, 12],\n",
       " [4, 11],\n",
       " [5, 10],\n",
       " [6, 9],\n",
       " [7, 8],\n",
       " [1, 1, 13],\n",
       " [1, 2, 12],\n",
       " [1, 3, 11],\n",
       " [1, 4, 10],\n",
       " [1, 5, 9],\n",
       " [1, 6, 8],\n",
       " [1, 7, 7],\n",
       " [2, 2, 11],\n",
       " [2, 3, 10],\n",
       " [2, 4, 9],\n",
       " [2, 5, 8],\n",
       " [2, 6, 7],\n",
       " [3, 3, 9],\n",
       " [3, 4, 8],\n",
       " [3, 5, 7],\n",
       " [3, 6, 6],\n",
       " [4, 4, 7],\n",
       " [4, 5, 6],\n",
       " [5, 5, 5],\n",
       " [1, 1, 1, 12],\n",
       " [1, 1, 2, 11],\n",
       " [1, 1, 3, 10],\n",
       " [1, 1, 4, 9],\n",
       " [1, 1, 5, 8],\n",
       " [1, 1, 6, 7],\n",
       " [1, 2, 2, 10],\n",
       " [1, 2, 3, 9],\n",
       " [1, 2, 4, 8],\n",
       " [1, 2, 5, 7],\n",
       " [1, 2, 6, 6],\n",
       " [1, 3, 3, 8],\n",
       " [1, 3, 4, 7],\n",
       " [1, 3, 5, 6],\n",
       " [1, 4, 4, 6],\n",
       " [1, 4, 5, 5],\n",
       " [2, 2, 2, 9],\n",
       " [2, 2, 3, 8],\n",
       " [2, 2, 4, 7],\n",
       " [2, 2, 5, 6],\n",
       " [2, 3, 3, 7],\n",
       " [2, 3, 4, 6],\n",
       " [2, 3, 5, 5],\n",
       " [2, 4, 4, 5],\n",
       " [3, 3, 3, 6],\n",
       " [3, 3, 4, 5],\n",
       " [3, 4, 4, 4],\n",
       " [1, 1, 1, 1, 11],\n",
       " [1, 1, 1, 2, 10],\n",
       " [1, 1, 1, 3, 9],\n",
       " [1, 1, 1, 4, 8],\n",
       " [1, 1, 1, 5, 7],\n",
       " [1, 1, 1, 6, 6],\n",
       " [1, 1, 2, 2, 9],\n",
       " [1, 1, 2, 3, 8],\n",
       " [1, 1, 2, 4, 7],\n",
       " [1, 1, 2, 5, 6],\n",
       " [1, 1, 3, 3, 7],\n",
       " [1, 1, 3, 4, 6],\n",
       " [1, 1, 3, 5, 5],\n",
       " [1, 1, 4, 4, 5],\n",
       " [1, 2, 2, 2, 8],\n",
       " [1, 2, 2, 3, 7],\n",
       " [1, 2, 2, 4, 6],\n",
       " [1, 2, 2, 5, 5],\n",
       " [1, 2, 3, 3, 6],\n",
       " [1, 2, 3, 4, 5],\n",
       " [1, 2, 4, 4, 4],\n",
       " [1, 3, 3, 3, 5],\n",
       " [1, 3, 3, 4, 4],\n",
       " [2, 2, 2, 2, 7],\n",
       " [2, 2, 2, 3, 6],\n",
       " [2, 2, 2, 4, 5],\n",
       " [2, 2, 3, 3, 5],\n",
       " [2, 2, 3, 4, 4],\n",
       " [2, 3, 3, 3, 4],\n",
       " [3, 3, 3, 3, 3],\n",
       " [1, 1, 1, 1, 1, 10],\n",
       " [1, 1, 1, 1, 2, 9],\n",
       " [1, 1, 1, 1, 3, 8],\n",
       " [1, 1, 1, 1, 4, 7],\n",
       " [1, 1, 1, 1, 5, 6],\n",
       " [1, 1, 1, 2, 2, 8],\n",
       " [1, 1, 1, 2, 3, 7],\n",
       " [1, 1, 1, 2, 4, 6],\n",
       " [1, 1, 1, 2, 5, 5],\n",
       " [1, 1, 1, 3, 3, 6],\n",
       " [1, 1, 1, 3, 4, 5],\n",
       " [1, 1, 1, 4, 4, 4],\n",
       " [1, 1, 2, 2, 2, 7],\n",
       " [1, 1, 2, 2, 3, 6],\n",
       " [1, 1, 2, 2, 4, 5],\n",
       " [1, 1, 2, 3, 3, 5],\n",
       " [1, 1, 2, 3, 4, 4],\n",
       " [1, 1, 3, 3, 3, 4],\n",
       " [1, 2, 2, 2, 2, 6],\n",
       " [1, 2, 2, 2, 3, 5],\n",
       " [1, 2, 2, 2, 4, 4],\n",
       " [1, 2, 2, 3, 3, 4],\n",
       " [1, 2, 3, 3, 3, 3],\n",
       " [2, 2, 2, 2, 2, 5],\n",
       " [2, 2, 2, 2, 3, 4],\n",
       " [2, 2, 2, 3, 3, 3],\n",
       " [1, 1, 1, 1, 1, 1, 9],\n",
       " [1, 1, 1, 1, 1, 2, 8],\n",
       " [1, 1, 1, 1, 1, 3, 7],\n",
       " [1, 1, 1, 1, 1, 4, 6],\n",
       " [1, 1, 1, 1, 1, 5, 5],\n",
       " [1, 1, 1, 1, 2, 2, 7],\n",
       " [1, 1, 1, 1, 2, 3, 6],\n",
       " [1, 1, 1, 1, 2, 4, 5],\n",
       " [1, 1, 1, 1, 3, 3, 5],\n",
       " [1, 1, 1, 1, 3, 4, 4],\n",
       " [1, 1, 1, 2, 2, 2, 6],\n",
       " [1, 1, 1, 2, 2, 3, 5],\n",
       " [1, 1, 1, 2, 2, 4, 4],\n",
       " [1, 1, 1, 2, 3, 3, 4],\n",
       " [1, 1, 1, 3, 3, 3, 3],\n",
       " [1, 1, 2, 2, 2, 2, 5],\n",
       " [1, 1, 2, 2, 2, 3, 4],\n",
       " [1, 1, 2, 2, 3, 3, 3],\n",
       " [1, 2, 2, 2, 2, 2, 4],\n",
       " [1, 2, 2, 2, 2, 3, 3],\n",
       " [2, 2, 2, 2, 2, 2, 3],\n",
       " [1, 1, 1, 1, 1, 1, 1, 8],\n",
       " [1, 1, 1, 1, 1, 1, 2, 7],\n",
       " [1, 1, 1, 1, 1, 1, 3, 6],\n",
       " [1, 1, 1, 1, 1, 1, 4, 5],\n",
       " [1, 1, 1, 1, 1, 2, 2, 6],\n",
       " [1, 1, 1, 1, 1, 2, 3, 5],\n",
       " [1, 1, 1, 1, 1, 2, 4, 4],\n",
       " [1, 1, 1, 1, 1, 3, 3, 4],\n",
       " [1, 1, 1, 1, 2, 2, 2, 5],\n",
       " [1, 1, 1, 1, 2, 2, 3, 4],\n",
       " [1, 1, 1, 1, 2, 3, 3, 3],\n",
       " [1, 1, 1, 2, 2, 2, 2, 4],\n",
       " [1, 1, 1, 2, 2, 2, 3, 3],\n",
       " [1, 1, 2, 2, 2, 2, 2, 3],\n",
       " [1, 2, 2, 2, 2, 2, 2, 2],\n",
       " [1, 1, 1, 1, 1, 1, 1, 1, 7],\n",
       " [1, 1, 1, 1, 1, 1, 1, 2, 6],\n",
       " [1, 1, 1, 1, 1, 1, 1, 3, 5],\n",
       " [1, 1, 1, 1, 1, 1, 1, 4, 4],\n",
       " [1, 1, 1, 1, 1, 1, 2, 2, 5],\n",
       " [1, 1, 1, 1, 1, 1, 2, 3, 4],\n",
       " [1, 1, 1, 1, 1, 1, 3, 3, 3],\n",
       " [1, 1, 1, 1, 1, 2, 2, 2, 4],\n",
       " [1, 1, 1, 1, 1, 2, 2, 3, 3],\n",
       " [1, 1, 1, 1, 2, 2, 2, 2, 3],\n",
       " [1, 1, 1, 2, 2, 2, 2, 2, 2],\n",
       " [1, 1, 1, 1, 1, 1, 1, 1, 1, 6],\n",
       " [1, 1, 1, 1, 1, 1, 1, 1, 2, 5],\n",
       " [1, 1, 1, 1, 1, 1, 1, 1, 3, 4],\n",
       " [1, 1, 1, 1, 1, 1, 1, 2, 2, 4],\n",
       " [1, 1, 1, 1, 1, 1, 1, 2, 3, 3],\n",
       " [1, 1, 1, 1, 1, 1, 2, 2, 2, 3],\n",
       " [1, 1, 1, 1, 1, 2, 2, 2, 2, 2],\n",
       " [1, 1, 1, 1, 1, 1, 1, 1, 1, 1, 5],\n",
       " [1, 1, 1, 1, 1, 1, 1, 1, 1, 2, 4],\n",
       " [1, 1, 1, 1, 1, 1, 1, 1, 1, 3, 3],\n",
       " [1, 1, 1, 1, 1, 1, 1, 1, 2, 2, 3],\n",
       " [1, 1, 1, 1, 1, 1, 1, 2, 2, 2, 2],\n",
       " [1, 1, 1, 1, 1, 1, 1, 1, 1, 1, 1, 4],\n",
       " [1, 1, 1, 1, 1, 1, 1, 1, 1, 1, 2, 3],\n",
       " [1, 1, 1, 1, 1, 1, 1, 1, 1, 2, 2, 2],\n",
       " [1, 1, 1, 1, 1, 1, 1, 1, 1, 1, 1, 1, 3],\n",
       " [1, 1, 1, 1, 1, 1, 1, 1, 1, 1, 1, 2, 2],\n",
       " [1, 1, 1, 1, 1, 1, 1, 1, 1, 1, 1, 1, 1, 2],\n",
       " [1, 1, 1, 1, 1, 1, 1, 1, 1, 1, 1, 1, 1, 1, 1]]"
      ]
     },
     "execution_count": 10,
     "metadata": {},
     "output_type": "execute_result"
    }
   ],
   "source": [
    "partitions"
   ]
  },
  {
   "cell_type": "code",
   "execution_count": 18,
   "metadata": {},
   "outputs": [],
   "source": [
    "def multinomial(params):\n",
    "    if len(params) == 1:\n",
    "        return 1\n",
    "    return binom(sum(params), params[-1]) * multinomial(params[:-1])"
   ]
  },
  {
   "cell_type": "code",
   "execution_count": 19,
   "metadata": {},
   "outputs": [],
   "source": [
    "p_kB = dict()\n",
    "for k in range(1,B):\n",
    "    lists = [i for i in partitions if len(i)==k]\n",
    "    sums = [functools.reduce(operator.mul, list(ss.poisson.pmf(lists[j],mu=1)))*multinomial(lists[j]) for j in range(len(lists))]\n",
    "    p_kB[k] = sum(sums) "
   ]
  },
  {
   "cell_type": "code",
   "execution_count": 20,
   "metadata": {},
   "outputs": [
    {
     "data": {
      "text/plain": [
       "{1: 2.813234320208389e-13,\n",
       " 2: 8.026796940891924e-06,\n",
       " 3: 0.061061733648016064,\n",
       " 4: 10.36067690027994,\n",
       " 5: 394.27267039843537,\n",
       " 6: 3254.7472247555124,\n",
       " 7: 18265.455761948713,\n",
       " 8: 52350.682457912626,\n",
       " 9: 76057.41443732151,\n",
       " 10: 105646.75793556738,\n",
       " 11: 151079.522158794,\n",
       " 12: 195286.1216735202,\n",
       " 13: 266840.7831506594,\n",
       " 14: 271842.19805690204}"
      ]
     },
     "execution_count": 20,
     "metadata": {},
     "output_type": "execute_result"
    }
   ],
   "source": [
    "p_kB"
   ]
  },
  {
   "cell_type": "code",
   "execution_count": 21,
   "metadata": {},
   "outputs": [
    {
     "data": {
      "image/png": "[encoded data removed]",
      "text/plain": [
       "<matplotlib.figure.Figure at 0x7f33568be2b0>"
      ]
     },
     "metadata": {},
     "output_type": "display_data"
    }
   ],
   "source": [
    "d = sorted(p_kB.items())\n",
    "x, y = zip(*d)\n",
    "plt.scatter(x,y,color=\"blue\", s=20)\n",
    "# plt.ylim([0,0.018])\n",
    "plt.show()"
   ]
  },
  {
   "cell_type": "code",
   "execution_count": null,
   "metadata": {},
   "outputs": [],
   "source": []
  },
  {
   "cell_type": "code",
   "execution_count": null,
   "metadata": {},
   "outputs": [],
   "source": []
  }
 ],
 "metadata": {
  "kernelspec": {
   "display_name": "Python 3",
   "language": "python",
   "name": "python3"
  },
  "language_info": {
   "codemirror_mode": {
    "name": "ipython",
    "version": 3
   },
   "file_extension": ".py",
   "mimetype": "text/x-python",
   "name": "python",
   "nbconvert_exporter": "python",
   "pygments_lexer": "ipython3",
   "version": "3.5.5"
  }
 },
 "nbformat": 4,
 "nbformat_minor": 2
}

{
 "cells": [
  {
   "cell_type": "code",
   "execution_count": 1,
   "metadata": {},
   "outputs": [],
   "source": [
    "import numpy as np\n",
    "from collections import defaultdict\n",
    "from sklearn.model_selection import train_test_split\n",
    "import pandas as pd\n",
    "import re, sys, os\n",
    "import h5py\n",
    "import numpy\n",
    "import scipy.io as sio\n",
    "import hdf5storage\n",
    "# Enable inline plotting  \n",
    "%matplotlib inline"
   ]
  },
  {
   "cell_type": "markdown",
   "metadata": {},
   "source": [
    "## Load and Split the data "
   ]
  },
  {
   "cell_type": "code",
   "execution_count": 2,
   "metadata": {},
   "outputs": [],
   "source": [
    "sys.path.append(\"/Users/mahzadkhoshlessan/Desktop/Machine-Learning/Intro-to-Deep-Learning/Final_Project/PyTorch\")"
   ]
  },
  {
   "cell_type": "code",
   "execution_count": 3,
   "metadata": {},
   "outputs": [],
   "source": [
    "from CNN_Model import project_01, normalize_im"
   ]
  },
  {
   "cell_type": "code",
   "execution_count": 4,
   "metadata": {},
   "outputs": [],
   "source": [
    "# Load training data and divide it to training and validation sets"
   ]
  },
  {
   "cell_type": "code",
   "execution_count": 5,
   "metadata": {},
   "outputs": [],
   "source": [
    "matfile = h5py.File('PyTorch/TrainingSet.mat', 'r')"
   ]
  },
  {
   "cell_type": "code",
   "execution_count": 6,
   "metadata": {},
   "outputs": [
    {
     "data": {
      "text/plain": [
       "['heatmaps', 'patches', 'spikes']"
      ]
     },
     "execution_count": 6,
     "metadata": {},
     "output_type": "execute_result"
    }
   ],
   "source": [
    "list(matfile.keys())"
   ]
  },
  {
   "cell_type": "code",
   "execution_count": 7,
   "metadata": {},
   "outputs": [],
   "source": [
    "patches = np.array(matfile['patches'])"
   ]
  },
  {
   "cell_type": "code",
   "execution_count": 8,
   "metadata": {},
   "outputs": [],
   "source": [
    "heatmaps = 100.0*np.array(matfile['heatmaps'])  "
   ]
  },
  {
   "cell_type": "code",
   "execution_count": 9,
   "metadata": {},
   "outputs": [],
   "source": [
    "spikes = np.array(matfile['heatmaps'])  "
   ]
  },
  {
   "cell_type": "code",
   "execution_count": 10,
   "metadata": {},
   "outputs": [],
   "source": [
    "X_train, X_test, y_train, y_test, z_train, z_test = train_test_split(patches, heatmaps, spikes, test_size=0.3, random_state=42)"
   ]
  },
  {
   "cell_type": "code",
   "execution_count": 11,
   "metadata": {},
   "outputs": [
    {
     "name": "stdout",
     "output_type": "stream",
     "text": [
      "Number of Training Examples: 7000\n",
      "Number of Validation Examples: 3000\n"
     ]
    }
   ],
   "source": [
    "print('Number of Training Examples: %d' % X_train.shape[0])\n",
    "print('Number of Validation Examples: %d' % X_test.shape[0])"
   ]
  },
  {
   "cell_type": "code",
   "execution_count": 12,
   "metadata": {},
   "outputs": [],
   "source": [
    "# Setting type\n",
    "X_train = X_train.astype('float32')\n",
    "X_test = X_test.astype('float32')\n",
    "y_train = y_train.astype('float32')\n",
    "y_test = y_test.astype('float32')\n",
    "z_train = z_train.astype('float32')\n",
    "z_test = z_test.astype('float32')"
   ]
  },
  {
   "cell_type": "markdown",
   "metadata": {},
   "source": [
    "## Projection & Normalization"
   ]
  },
  {
   "cell_type": "code",
   "execution_count": 13,
   "metadata": {},
   "outputs": [],
   "source": [
    "#===================== Training & test set normalization ==========================\n",
    "# normalize training & test images to be in the range [0,1] and calculate the training & test set mean and std"
   ]
  },
  {
   "cell_type": "code",
   "execution_count": 14,
   "metadata": {},
   "outputs": [],
   "source": [
    "mean_train = np.zeros(X_train.shape[0],dtype=np.float32)\n",
    "std_train = np.zeros(X_train.shape[0], dtype=np.float32)\n",
    "for i in range(X_train.shape[0]):\n",
    "    X_train[i, :, :] = project_01(X_train[i, :, :])\n",
    "    mean_train[i] = X_train[i, :, :].mean()\n",
    "    std_train[i] = X_train[i, :, :].std()"
   ]
  },
  {
   "cell_type": "code",
   "execution_count": 15,
   "metadata": {},
   "outputs": [],
   "source": [
    "# resulting normalized training images\n",
    "mean_val_train = mean_train.mean()\n",
    "std_val_train = std_train.mean()\n",
    "X_train_norm = np.zeros(X_train.shape, dtype=np.float32)\n",
    "for i in range(X_train.shape[0]):\n",
    "    X_train_norm[i, :, :] = normalize_im(X_train[i, :, :], mean_val_train, std_val_train)"
   ]
  },
  {
   "cell_type": "code",
   "execution_count": 16,
   "metadata": {},
   "outputs": [],
   "source": [
    "psize =  X_train_norm.shape[1]"
   ]
  },
  {
   "cell_type": "code",
   "execution_count": 17,
   "metadata": {},
   "outputs": [],
   "source": [
    "# ===================== Test set normalization ==========================\n",
    "# normalize test images to be in the range [0,1] and calculate the test set \n",
    "# mean and std"
   ]
  },
  {
   "cell_type": "code",
   "execution_count": 18,
   "metadata": {},
   "outputs": [],
   "source": [
    "mean_test = np.zeros(X_test.shape[0],dtype=np.float32)\n",
    "std_test = np.zeros(X_test.shape[0], dtype=np.float32)\n",
    "for i in range(X_test.shape[0]):\n",
    "    X_test[i, :, :] = project_01(X_test[i, :, :])\n",
    "    mean_test[i] = X_test[i, :, :].mean()\n",
    "    std_test[i] = X_test[i, :, :].std()"
   ]
  },
  {
   "cell_type": "code",
   "execution_count": 19,
   "metadata": {},
   "outputs": [],
   "source": [
    "# resulting normalized test images\n",
    "mean_val_test = mean_test.mean()\n",
    "std_val_test = std_test.mean()\n",
    "X_test_norm = np.zeros(X_test.shape, dtype=np.float32)\n",
    "for i in range(X_test.shape[0]):\n",
    "    X_test_norm[i, :, :] = normalize_im(X_test[i, :, :], mean_val_test, std_val_test)"
   ]
  },
  {
   "cell_type": "code",
   "execution_count": 20,
   "metadata": {},
   "outputs": [],
   "source": [
    "X_train_norm = X_train_norm.reshape(X_train.shape[0], 1, psize, psize)\n",
    "X_test_norm = X_test_norm.reshape(X_test.shape[0], 1, psize, psize)\n",
    "y_train = y_train.reshape(y_train.shape[0], 1, psize, psize)\n",
    "y_test = y_test.reshape(y_test.shape[0], 1, psize, psize)"
   ]
  },
  {
   "cell_type": "code",
   "execution_count": 21,
   "metadata": {},
   "outputs": [
    {
     "data": {
      "text/plain": [
       "(3000, 1, 208, 208)"
      ]
     },
     "execution_count": 21,
     "metadata": {},
     "output_type": "execute_result"
    }
   ],
   "source": [
    "np.shape(X_test_norm)"
   ]
  },
  {
   "cell_type": "markdown",
   "metadata": {},
   "source": [
    "### Save normalized values into separate h5 files for both train & test datasets"
   ]
  },
  {
   "cell_type": "code",
   "execution_count": 22,
   "metadata": {},
   "outputs": [],
   "source": [
    "def write2h5(f,X,Y,size,bSize):    \n",
    "    for i,j in enumerate(range(0,size,bSize)):\n",
    "        if i<(size//bSize):\n",
    "            dfset = f.create_dataset('batch_{}'.format(i),(2,bSize,1,208,208),dtype='f')\n",
    "            dfset[:2,:,:,:,:] = X[j:j+bSize,:,:,:], Y[j:j+bSize,:,:,:]"
   ]
  },
  {
   "cell_type": "markdown",
   "metadata": {},
   "source": [
    "### Get h5 file for Training set "
   ]
  },
  {
   "cell_type": "code",
   "execution_count": 23,
   "metadata": {},
   "outputs": [],
   "source": [
    "HDF5 = os.path.abspath(os.path.normpath(os.path.join(os.getcwd(),'Input','TrainingSplit32.h5')))"
   ]
  },
  {
   "cell_type": "code",
   "execution_count": 24,
   "metadata": {},
   "outputs": [],
   "source": [
    "f = h5py.File(HDF5, 'w') "
   ]
  },
  {
   "cell_type": "code",
   "execution_count": 25,
   "metadata": {},
   "outputs": [],
   "source": [
    "write2h5(f,X_train_norm,y_train,y_train.shape[0],32)"
   ]
  },
  {
   "cell_type": "code",
   "execution_count": 26,
   "metadata": {},
   "outputs": [],
   "source": [
    "f.close()"
   ]
  },
  {
   "cell_type": "markdown",
   "metadata": {},
   "source": [
    "### Get h5 file for Test set  "
   ]
  },
  {
   "cell_type": "code",
   "execution_count": 27,
   "metadata": {},
   "outputs": [],
   "source": [
    "HDF5 = os.path.abspath(os.path.normpath(os.path.join(os.getcwd(),'Input','TestSplit32.h5')))"
   ]
  },
  {
   "cell_type": "code",
   "execution_count": 28,
   "metadata": {},
   "outputs": [],
   "source": [
    "f = h5py.File(HDF5, 'w') "
   ]
  },
  {
   "cell_type": "code",
   "execution_count": 29,
   "metadata": {},
   "outputs": [],
   "source": [
    "write2h5(f,X_test_norm,y_test,y_test.shape[0],32)"
   ]
  },
  {
   "cell_type": "code",
   "execution_count": 30,
   "metadata": {},
   "outputs": [],
   "source": [
    "f.close()"
   ]
  },
  {
   "cell_type": "code",
   "execution_count": null,
   "metadata": {},
   "outputs": [],
   "source": []
  }
 ],
 "metadata": {
  "kernelspec": {
   "display_name": "Python 3",
   "language": "python",
   "name": "python3"
  },
  "language_info": {
   "codemirror_mode": {
    "name": "ipython",
    "version": 3
   },
   "file_extension": ".py",
   "mimetype": "text/x-python",
   "name": "python",
   "nbconvert_exporter": "python",
   "pygments_lexer": "ipython3",
   "version": "3.5.5"
  }
 },
 "nbformat": 4,
 "nbformat_minor": 2
}
